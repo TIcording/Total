{
 "cells": [
  {
   "cell_type": "markdown",
   "id": "43735030",
   "metadata": {},
   "source": [
    "# 파일 읽기 및 저장하기\n",
    "*  fileinput"
   ]
  },
  {
   "cell_type": "markdown",
   "id": "d37bc0aa",
   "metadata": {},
   "source": [
    "### 1-1. fileinput\n",
    "* 텍스트 파일을 읽고, 쓰고, 저장하는 기능을 편리하게 사용할 수 있도록 해주는 라이브러리\n",
    "* 여러개의 파일을 읽어서 수정할 수 있음"
   ]
  },
  {
   "cell_type": "code",
   "execution_count": 1,
   "id": "84bc642d",
   "metadata": {},
   "outputs": [],
   "source": [
    "import fileinput\n",
    "import os\n",
    "import glob\n"
   ]
  },
  {
   "cell_type": "code",
   "execution_count": 3,
   "id": "67c2d9c8",
   "metadata": {},
   "outputs": [
    {
     "data": {
      "text/plain": [
       "'C:\\\\JM\\\\Python\\\\jupyter'"
      ]
     },
     "execution_count": 3,
     "metadata": {},
     "output_type": "execute_result"
    }
   ],
   "source": [
    "# 현재 경로를 확인\n",
    "os.getcwd()"
   ]
  },
  {
   "cell_type": "code",
   "execution_count": 4,
   "id": "7fd2f450",
   "metadata": {},
   "outputs": [
    {
     "data": {
      "text/plain": [
       "['.ipynb_checkpoints', '24. 파일 입출력 라이브러리.ipynb']"
      ]
     },
     "execution_count": 4,
     "metadata": {},
     "output_type": "execute_result"
    }
   ],
   "source": [
    "# 디렉토리 내 파일 확인\n",
    "os.listdir(os.getcwd())"
   ]
  },
  {
   "cell_type": "code",
   "execution_count": 5,
   "id": "7199e3fc",
   "metadata": {},
   "outputs": [],
   "source": [
    "# 경로 설정\n",
    "path = 'sample/'"
   ]
  },
  {
   "cell_type": "code",
   "execution_count": 148,
   "id": "1299614e",
   "metadata": {},
   "outputs": [
    {
     "data": {
      "text/plain": [
       "['sample\\\\새파일1.txt',\n",
       " 'sample\\\\새파일2.txt',\n",
       " 'sample\\\\새파일3.txt',\n",
       " 'sample\\\\새파일4.txt',\n",
       " 'sample\\\\새파일5.txt']"
      ]
     },
     "execution_count": 148,
     "metadata": {},
     "output_type": "execute_result"
    }
   ],
   "source": [
    "# glob(): 해당 경로의 파일 이름을 리스트로 반환\n",
    "glob.glob(os.path.join(path,'*.txt'))"
   ]
  },
  {
   "cell_type": "code",
   "execution_count": 12,
   "id": "789f5847",
   "metadata": {},
   "outputs": [
    {
     "name": "stdout",
     "output_type": "stream",
     "text": [
      "1번째 줄입니다.\n",
      "\n",
      "2번째 줄입니다.\n",
      "\n",
      "3번째 줄입니다.\n",
      "\n",
      "4번째 줄입니다.\n",
      "\n",
      "5번째 줄입니다.\n",
      "\n",
      "6번째 줄입니다.\n",
      "7번째 줄입니다.\n",
      "\n",
      "8번째 줄입니다.\n",
      "\n",
      "9번째 줄입니다.\n",
      "10번째 줄입니다.\n",
      "\n",
      "11번째 줄입니다.\n",
      "\n",
      "12번째 줄입니다.\n",
      "13번째 줄입니다.\n",
      "\n",
      "14번째 줄입니다.\n",
      "\n",
      "15번째 줄입니다.\n"
     ]
    }
   ],
   "source": [
    "with fileinput.input(glob.glob(os.path.join(path,'*.txt'))) as f:\n",
    "    for line in f:\n",
    "        print(line)"
   ]
  },
  {
   "cell_type": "code",
   "execution_count": 145,
   "id": "8dfade11",
   "metadata": {},
   "outputs": [],
   "source": [
    "txt_files = glob.glob(os.path.join(path,'*.txt'))"
   ]
  },
  {
   "cell_type": "code",
   "execution_count": 146,
   "id": "3743f195",
   "metadata": {},
   "outputs": [
    {
     "data": {
      "text/plain": [
       "['sample\\\\새파일1.txt',\n",
       " 'sample\\\\새파일2.txt',\n",
       " 'sample\\\\새파일3.txt',\n",
       " 'sample\\\\새파일4.txt',\n",
       " 'sample\\\\새파일5.txt']"
      ]
     },
     "execution_count": 146,
     "metadata": {},
     "output_type": "execute_result"
    }
   ],
   "source": [
    "txt_files"
   ]
  },
  {
   "cell_type": "code",
   "execution_count": 147,
   "id": "92d46b1f",
   "metadata": {},
   "outputs": [],
   "source": [
    "#각 파일의 첫번째 라인을 찾아 변경하기\n",
    "with fileinput.input(txt_files, inplace = True) as f:\n",
    "    for line in f:\n",
    "        if f.isfirstline():\n",
    "            print('첫번째 라인 입니다.',end = '\\n')\n",
    "        else:\n",
    "            print(line,end='')"
   ]
  },
  {
   "cell_type": "code",
   "execution_count": 149,
   "id": "26e84c1b",
   "metadata": {},
   "outputs": [],
   "source": [
    "# 검색된 라인 변경하기\n",
    "with fileinput.input(txt_files, inplace = True) as f:\n",
    "    for line in f:\n",
    "        if line == '첫번째 라인 입니다.\\n':\n",
    "            print('1번째 라인 입니다.',end = '\\n')\n",
    "        else:\n",
    "            print(line,end='')"
   ]
  },
  {
   "cell_type": "code",
   "execution_count": 151,
   "id": "dc955860",
   "metadata": {},
   "outputs": [],
   "source": [
    "# 키워드 포함 라인 변경하기\n",
    "with fileinput.input(txt_files, inplace = True) as f:\n",
    "    for line in f:\n",
    "        if '줄' in line:\n",
    "            print('첫번째 줄입니다.', end = '\\n')\n",
    "        else:\n",
    "            print(line,end='')"
   ]
  },
  {
   "cell_type": "code",
   "execution_count": 153,
   "id": "9cac1669",
   "metadata": {},
   "outputs": [],
   "source": [
    "# 텍스트 치환하기\n",
    "with fileinput.input(txt_files, inplace = True) as f:\n",
    "    for line in f:\n",
    "        if '첫번째' in line:\n",
    "            print(line.replace('첫번째','두번째'), end = '')\n",
    "        else:\n",
    "            print(line,end='')"
   ]
  },
  {
   "cell_type": "code",
   "execution_count": 85,
   "id": "48d5acd7",
   "metadata": {},
   "outputs": [
    {
     "ename": "TypeError",
     "evalue": "replace() takes no keyword arguments",
     "output_type": "error",
     "traceback": [
      "\u001b[1;31m---------------------------------------------------------------------------\u001b[0m",
      "\u001b[1;31mTypeError\u001b[0m                                 Traceback (most recent call last)",
      "Cell \u001b[1;32mIn[85], line 6\u001b[0m\n\u001b[0;32m      4\u001b[0m i\u001b[38;5;241m=\u001b[39m\u001b[38;5;241m1\u001b[39m\n\u001b[0;32m      5\u001b[0m \u001b[38;5;28;01mif\u001b[39;00m \u001b[38;5;124m'\u001b[39m\u001b[38;5;124m두\u001b[39m\u001b[38;5;124m'\u001b[39m \u001b[38;5;129;01min\u001b[39;00m line:\n\u001b[1;32m----> 6\u001b[0m     \u001b[38;5;28mprint\u001b[39m(\u001b[43mline\u001b[49m\u001b[38;5;241;43m.\u001b[39;49m\u001b[43mreplace\u001b[49m\u001b[43m(\u001b[49m\u001b[38;5;124;43m'\u001b[39;49m\u001b[38;5;124;43m두\u001b[39;49m\u001b[38;5;124;43m'\u001b[39;49m\u001b[43m,\u001b[49m\u001b[43mi\u001b[49m\u001b[43m,\u001b[49m\u001b[43m \u001b[49m\u001b[43mend\u001b[49m\u001b[43m \u001b[49m\u001b[38;5;241;43m=\u001b[39;49m\u001b[43m \u001b[49m\u001b[38;5;124;43m'\u001b[39;49m\u001b[38;5;124;43m'\u001b[39;49m\u001b[43m)\u001b[49m)\n\u001b[0;32m      7\u001b[0m \u001b[38;5;28;01melse\u001b[39;00m:\n\u001b[0;32m      8\u001b[0m     \u001b[38;5;28mprint\u001b[39m(line,end\u001b[38;5;241m=\u001b[39m\u001b[38;5;124m'\u001b[39m\u001b[38;5;124m'\u001b[39m)\n",
      "\u001b[1;31mTypeError\u001b[0m: replace() takes no keyword arguments"
     ]
    }
   ],
   "source": [
    "# 키워드 포함 라인 변경하기\n",
    "with fileinput.input(txt_files, inplace = True) as f:\n",
    "    for line in f:\n",
    "        i=1\n",
    "        if '두' in line:\n",
    "            print(line.replace('두',i, end = ''))\n",
    "        else:\n",
    "            print(line,end='')\n",
    "        i+=1"
   ]
  },
  {
   "cell_type": "markdown",
   "id": "ebd53134",
   "metadata": {},
   "source": [
    "### 1-2. pickle\n",
    "* 파이썬에서 사용하는 딕셔너리, 리스트, 클래스 등의 자료형을 변환 없이 그대로 파일로 저장하고 불러올 때 사용하는 모듈"
   ]
  },
  {
   "cell_type": "code",
   "execution_count": 42,
   "id": "e20dabd1",
   "metadata": {},
   "outputs": [],
   "source": [
    "import pickle"
   ]
  },
  {
   "cell_type": "code",
   "execution_count": 43,
   "id": "e134d895",
   "metadata": {},
   "outputs": [],
   "source": [
    "data = ['apple','banana','orange']"
   ]
  },
  {
   "cell_type": "code",
   "execution_count": 44,
   "id": "1ca19011",
   "metadata": {},
   "outputs": [],
   "source": [
    "# 파일 저장\n",
    "with open('list.pkl','wb') as f:\n",
    "    pickle.dump(data,f)"
   ]
  },
  {
   "cell_type": "code",
   "execution_count": 47,
   "id": "00ee5b4f",
   "metadata": {},
   "outputs": [],
   "source": [
    "# 파일 읽기\n",
    "with open('list.pkl','rb') as f:\n",
    "    data = pickle.load(f)"
   ]
  },
  {
   "cell_type": "code",
   "execution_count": 48,
   "id": "3ee2ec71",
   "metadata": {},
   "outputs": [
    {
     "name": "stdout",
     "output_type": "stream",
     "text": [
      "<class 'list'>\n",
      "['apple', 'banana', 'orange']\n"
     ]
    }
   ],
   "source": [
    "print(type(data))\n",
    "print(data)"
   ]
  },
  {
   "cell_type": "code",
   "execution_count": 37,
   "id": "29e8bd36",
   "metadata": {},
   "outputs": [],
   "source": [
    "# 딕셔너리 저장\n",
    "data = {}\n",
    "data[1] = {'id':1,'userid':'apple','name':'김사과','gender':'여자','age':20}"
   ]
  },
  {
   "cell_type": "code",
   "execution_count": 38,
   "id": "455582a4",
   "metadata": {},
   "outputs": [],
   "source": [
    "with open('dict.pkl','wb') as f:\n",
    "    pickle.dump(data,f)"
   ]
  },
  {
   "cell_type": "code",
   "execution_count": 39,
   "id": "5d6fc42e",
   "metadata": {},
   "outputs": [],
   "source": [
    "with open('dict.pkl','rb') as f:\n",
    "    data = pickle.load(f)"
   ]
  },
  {
   "cell_type": "code",
   "execution_count": 40,
   "id": "9a15a6d9",
   "metadata": {},
   "outputs": [
    {
     "name": "stdout",
     "output_type": "stream",
     "text": [
      "{1: {'id': 1, 'userid': 'apple', 'name': '김사과', 'gender': '여자', 'age': 20}}\n"
     ]
    }
   ],
   "source": [
    "type(data)\n",
    "print(data)"
   ]
  },
  {
   "cell_type": "markdown",
   "id": "c00df5fd",
   "metadata": {},
   "source": [
    "# 2. 파일 찾기, 복사, 이동하기"
   ]
  },
  {
   "cell_type": "markdown",
   "id": "24ea3a77",
   "metadata": {},
   "source": [
    "### 2-1. 파일 확장자로 찾기"
   ]
  },
  {
   "cell_type": "code",
   "execution_count": 57,
   "id": "a8e30731",
   "metadata": {},
   "outputs": [
    {
     "data": {
      "text/plain": [
       "'C:\\\\JM\\\\Python\\\\jupyter'"
      ]
     },
     "execution_count": 57,
     "metadata": {},
     "output_type": "execute_result"
    }
   ],
   "source": [
    "# 파일 확장자로 찾기\n",
    "os.getcwd()"
   ]
  },
  {
   "cell_type": "code",
   "execution_count": 65,
   "id": "5e4eea43",
   "metadata": {},
   "outputs": [
    {
     "name": "stdout",
     "output_type": "stream",
     "text": [
      "주피터 노트북.txt\n"
     ]
    }
   ],
   "source": [
    "for filename in glob.glob('*.txt'):\n",
    "    print(filename)"
   ]
  },
  {
   "cell_type": "code",
   "execution_count": 154,
   "id": "7f645615",
   "metadata": {},
   "outputs": [
    {
     "name": "stdout",
     "output_type": "stream",
     "text": [
      "project\\프로젝트 개요.txt\n",
      "sample\\새파일1.txt\n",
      "sample\\새파일2.txt\n",
      "sample\\새파일3.txt\n",
      "sample\\새파일4.txt\n",
      "sample\\새파일5.txt\n",
      "고라니\\새파일1_복사본.txt\n",
      "고라니\\저녁시간.txt\n",
      "고라니\\주피터노트북.txt\n"
     ]
    }
   ],
   "source": [
    "# txt 파일 찾기 : 하위 경로\n",
    "for filename in glob.glob('**/*.txt'):\n",
    "    print(filename)"
   ]
  },
  {
   "cell_type": "code",
   "execution_count": 155,
   "id": "4d4611ed",
   "metadata": {},
   "outputs": [
    {
     "name": "stdout",
     "output_type": "stream",
     "text": [
      "org_data.txt\n",
      "step1_복사본.txt\n",
      "가나다라.txt\n",
      "주피터 노트북.txt\n",
      "new_dir\\기타\\새파일1_복사본.txt\n",
      "new_dir\\기타\\저녁시간.txt\n",
      "new_dir\\기타\\주피터노트북.txt\n",
      "project\\프로젝트 개요.txt\n",
      "sample\\새파일1.txt\n",
      "sample\\새파일2.txt\n",
      "sample\\새파일3.txt\n",
      "sample\\새파일4.txt\n",
      "sample\\새파일5.txt\n",
      "고라니\\새파일1_복사본.txt\n",
      "고라니\\저녁시간.txt\n",
      "고라니\\주피터노트북.txt\n"
     ]
    }
   ],
   "source": [
    "# txt 파일 찾기: 현재와 하위 경로 모두 포함\n",
    "for filename in glob.glob('**/*.txt',recursive = True):\n",
    "    print(filename)"
   ]
  },
  {
   "cell_type": "code",
   "execution_count": 156,
   "id": "f19ef747",
   "metadata": {},
   "outputs": [
    {
     "name": "stdout",
     "output_type": "stream",
     "text": [
      "dict.pkl\n",
      "list.pkl\n",
      "가나다라.txt\n"
     ]
    }
   ],
   "source": [
    "# 파일명 글자수로 찾기\n",
    "for filename in glob.glob('????.*',recursive = True): # 글자수 4개\n",
    "    print(filename)"
   ]
  },
  {
   "cell_type": "code",
   "execution_count": 157,
   "id": "c51e7642",
   "metadata": {},
   "outputs": [
    {
     "name": "stdout",
     "output_type": "stream",
     "text": [
      "주피터 노트북.txt\n"
     ]
    }
   ],
   "source": [
    "for filename in glob.glob('???????.*',recursive = True): # 글자수 7개\n",
    "    print(filename)"
   ]
  },
  {
   "cell_type": "code",
   "execution_count": 158,
   "id": "5acf3a22",
   "metadata": {},
   "outputs": [
    {
     "name": "stdout",
     "output_type": "stream",
     "text": [
      "dict.pkl\n",
      "list.pkl\n"
     ]
    }
   ],
   "source": [
    "# 문자열 패턴 포함 파일명 찾기\n",
    "for filename in glob.glob('[a-z][a-z][a-z][a-z].*',recursive = True): # 알파벳 글자수 4\n",
    "    print(filename)"
   ]
  },
  {
   "cell_type": "code",
   "execution_count": 159,
   "id": "ab20bfc1",
   "metadata": {},
   "outputs": [],
   "source": [
    "for filename in glob.glob('**/step*.*'): # 하위폴더 안의 step으로 시작하는 파일\n",
    "    print(filename)"
   ]
  },
  {
   "cell_type": "code",
   "execution_count": 160,
   "id": "c4453a20",
   "metadata": {},
   "outputs": [
    {
     "name": "stdout",
     "output_type": "stream",
     "text": [
      "project\\25.프로젝트 실습.ipynb\n",
      "project\\프로젝트 개요.txt\n"
     ]
    }
   ],
   "source": [
    "for filename in glob.glob('**/*프로젝트*.*'): \n",
    "    print(filename)"
   ]
  },
  {
   "cell_type": "markdown",
   "id": "8af11948",
   "metadata": {},
   "source": [
    "### 2-2. fnmatch\n",
    "* glob과 동일하게 특정한 패턴으로 따르는 파일명을 찾아주는 모듈\n",
    "* 파일명 매칭 여부를 True, False 형태로 반환하기 때문에 os.listdir()함수와 함께 사용"
   ]
  },
  {
   "cell_type": "code",
   "execution_count": 161,
   "id": "4c18fa14",
   "metadata": {},
   "outputs": [],
   "source": [
    "import fnmatch"
   ]
  },
  {
   "cell_type": "code",
   "execution_count": 165,
   "id": "1087b309",
   "metadata": {},
   "outputs": [
    {
     "name": "stdout",
     "output_type": "stream",
     "text": [
      "새파일1.txt\n",
      "새파일2.txt\n",
      "새파일3.txt\n",
      "새파일4.txt\n",
      "새파일5.txt\n"
     ]
    }
   ],
   "source": [
    "# 파일명은 '새'로 시작하고 확장명은 .txt를 검색\n",
    "# 확장자를 제외한 파일명의 길이는 4개이며, 파일명의 마지막 문자는 숫자임\n",
    "for filename in os.listdir('./sample'):\n",
    "    if fnmatch.fnmatch(filename,'새??[0-9].txt'):\n",
    "        print(filename)"
   ]
  },
  {
   "cell_type": "markdown",
   "id": "b8c2423c",
   "metadata": {},
   "source": [
    "### 2-3. shutil\n",
    "* 파일을 복사하거나 이동할 때 사용하는 내장 모듈"
   ]
  },
  {
   "cell_type": "code",
   "execution_count": 89,
   "id": "a0ae451e",
   "metadata": {},
   "outputs": [],
   "source": [
    "# 파일 복사하기\n",
    "import shutil"
   ]
  },
  {
   "cell_type": "code",
   "execution_count": 92,
   "id": "dea854fb",
   "metadata": {},
   "outputs": [
    {
     "data": {
      "text/plain": [
       "'./sample/step1_복사본.txt'"
      ]
     },
     "execution_count": 92,
     "metadata": {},
     "output_type": "execute_result"
    }
   ],
   "source": [
    "shutil.copy('./sample/step1.txt','./sample/step1_복사본.txt')"
   ]
  },
  {
   "cell_type": "code",
   "execution_count": 93,
   "id": "a6914671",
   "metadata": {},
   "outputs": [
    {
     "data": {
      "text/plain": [
       "'./step1_복사본.txt'"
      ]
     },
     "execution_count": 93,
     "metadata": {},
     "output_type": "execute_result"
    }
   ],
   "source": [
    "# 파일 이동하기\n",
    "shutil.move('./sample/step1_복사본.txt','./step1_복사본.txt')"
   ]
  },
  {
   "cell_type": "code",
   "execution_count": 95,
   "id": "2a8fc114",
   "metadata": {},
   "outputs": [
    {
     "data": {
      "text/plain": [
       "'./step1_복사본.txt'"
      ]
     },
     "execution_count": 95,
     "metadata": {},
     "output_type": "execute_result"
    }
   ],
   "source": [
    "# 확장명 바꾸기\n",
    "shutil.move('./step1_복사본.py','./step1_복사본.txt')"
   ]
  },
  {
   "cell_type": "markdown",
   "id": "b2f62a2b",
   "metadata": {},
   "source": [
    "# 3. 파일 압축"
   ]
  },
  {
   "cell_type": "markdown",
   "id": "4b938a04",
   "metadata": {},
   "source": [
    "### 3-1. 데이터 압축\n",
    "* 대용량 데이터 및 대량의 파일을 전송 시 , 전송 속도가 느리며 전송 문제가 발생할 가능성이 매우 높음\n",
    "* 데이터 압축의 종류\n",
    "    * 손실 압축: 사람이 눈치채지 못할 수준의 정보만 버리고 압축하는 방법\n",
    "    * 무손실 압축: 데이터 손실이 전혀 없는 압축\n",
    "* 압출률: 압축된 자료량(압축된 데이터 크기) / 원시 자료량(원래 데이터 크기)\n",
    "* 다양한 압축 알고리즘에 따라 압축 성능 및 시간이 좌우됨\n",
    "* 압축: 인코딩(Encoding)\n",
    "* 압축 해제: 디코딩(Decoding)"
   ]
  },
  {
   "cell_type": "markdown",
   "id": "5dfa67bd",
   "metadata": {},
   "source": [
    "### 3-2. zlib\n",
    "* 데이터를 압축하거나 해제할 때 사용하는 모듈\n",
    "* compres()와 decompress() 함수로 문자열을 압축하거나 해제\n",
    "* 데이터 크기를 줄여서 전송이 필요한 경우 사용"
   ]
  },
  {
   "cell_type": "code",
   "execution_count": 102,
   "id": "d6c37fe6",
   "metadata": {},
   "outputs": [],
   "source": [
    "import zlib"
   ]
  },
  {
   "cell_type": "code",
   "execution_count": 103,
   "id": "5f450463",
   "metadata": {},
   "outputs": [],
   "source": [
    "data = 'Hello Python!' * 10000"
   ]
  },
  {
   "cell_type": "code",
   "execution_count": 104,
   "id": "57e14a81",
   "metadata": {},
   "outputs": [
    {
     "name": "stdout",
     "output_type": "stream",
     "text": [
      "130000\n"
     ]
    }
   ],
   "source": [
    "print(len(data)) # 13000byte"
   ]
  },
  {
   "cell_type": "code",
   "execution_count": 106,
   "id": "e7458e3a",
   "metadata": {},
   "outputs": [
    {
     "name": "stdout",
     "output_type": "stream",
     "text": [
      "293\n"
     ]
    }
   ],
   "source": [
    "compress_data = zlib.compress(data.encode(encoding='utf-8'))\n",
    "print(len(compress_data))"
   ]
  },
  {
   "cell_type": "code",
   "execution_count": 108,
   "id": "032f20ea",
   "metadata": {},
   "outputs": [
    {
     "data": {
      "text/plain": [
       "b'x\\x9c\\xed\\xc71\\r\\x00 \\x0c\\x000+\\xe0f\\'&H8\\x16\\xf6\\xf0\\xe0\\x1e\\x1f\\xa4\\xfd\\x1a3\\xb3\\xda\\xb8g\\xd5\\xee!\"\"\"\"\"\"\"\"\"\"\"\"\"\"\"\"\"\"\"\"\"\"\"\"\"\"\"\"\"\"\"\"\"\"\"\"\"\"\"\"\"\"\"\"\"\"\"\"\"\"\"\"\"\"\"\"\"\"\"\"\"\"\"\"\"\"\"\"\"\"\"\"\"\"\"\"\"\"\"\"\"\"\"\"\"\"\"\"\"\"\"\"\"\"\"\"\"\"\"\"\"\"\"\"\"\"\"\"\"\"\"\"\"\"\"\"\"\"\"\"\"\"\"\"\"\"\"\"\"\"\"\"\"\"\"\"\"\"\"\"\"\"\"\"\"\"\"\"\"\"\"\"\"\"\"\"\"\"\"\"\"\"\"\"\"\"\"\"\"\"\"\"\"\"\"\"\"\"\"\"\"\"\"\"\"\"\"\"\"\"\"\"\"\"\"\"\"\"\"\"\"\"\"\"\"\"\"\"\"\"\"\"\"\"\"\"\"\"\"\"\"\"\"\"\"\"\"\"\"\"\"\"\"\"\"\"\"\"\"\"\"\"\"\"\"\"\"\"\"\"\"?\\xe6\\x01le79'"
      ]
     },
     "execution_count": 108,
     "metadata": {},
     "output_type": "execute_result"
    }
   ],
   "source": [
    "compress_data\n"
   ]
  },
  {
   "cell_type": "code",
   "execution_count": 110,
   "id": "9e9c048a",
   "metadata": {},
   "outputs": [
    {
     "name": "stdout",
     "output_type": "stream",
     "text": [
      "130000\n"
     ]
    }
   ],
   "source": [
    "org_data = zlib.decompress(compress_data).decode('utf-8')\n",
    "print(len(org_data))"
   ]
  },
  {
   "cell_type": "markdown",
   "id": "037d0503",
   "metadata": {},
   "source": [
    "### 3-3. gzip\n",
    "* 파일을 압축하거나 해제할 때 사용하는 모듈\n",
    "* 내부적으로 zlib 알고리즘을 사용"
   ]
  },
  {
   "cell_type": "code",
   "execution_count": 112,
   "id": "9a6b18c9",
   "metadata": {},
   "outputs": [],
   "source": [
    "import gzip"
   ]
  },
  {
   "cell_type": "code",
   "execution_count": 113,
   "id": "e5b2c5b0",
   "metadata": {},
   "outputs": [],
   "source": [
    "with open('org_data.txt','w') as f:\n",
    "    f.write(data)"
   ]
  },
  {
   "cell_type": "code",
   "execution_count": 115,
   "id": "02ece2a5",
   "metadata": {},
   "outputs": [],
   "source": [
    "with gzip.open('compressed.txt.gz','wb') as f:\n",
    "    f.write(data.encode('utf-8'))"
   ]
  },
  {
   "cell_type": "code",
   "execution_count": 116,
   "id": "bcdf8ded",
   "metadata": {},
   "outputs": [],
   "source": [
    "# gzip 압축 해제\n",
    "with gzip.open('compressed.txt.gz','rb') as f:\n",
    "    org_data = f.read().decode('utf-8')"
   ]
  },
  {
   "cell_type": "code",
   "execution_count": 118,
   "id": "5e56cf09",
   "metadata": {},
   "outputs": [
    {
     "name": "stdout",
     "output_type": "stream",
     "text": [
      "130000\n"
     ]
    }
   ],
   "source": [
    "print(len(org_data))"
   ]
  },
  {
   "cell_type": "markdown",
   "id": "4ee0a2d4",
   "metadata": {},
   "source": [
    "### 3-4. zipfile\n",
    "* 여러개 파일을 zip 확장자로 합쳐서 압축할 때 사용하는 모듈"
   ]
  },
  {
   "cell_type": "code",
   "execution_count": 133,
   "id": "33d16c27",
   "metadata": {},
   "outputs": [],
   "source": [
    "import zipfile"
   ]
  },
  {
   "cell_type": "code",
   "execution_count": 136,
   "id": "6b569afa",
   "metadata": {},
   "outputs": [],
   "source": [
    "# 파일 합치고 압축하기\n",
    "with zipfile.ZipFile('./sample/새파일.zip','w') as myzip:\n",
    "    myzip.write('./sample/새파일1.txt')\n",
    "    myzip.write('./sample/새파일2.txt')\n",
    "    myzip.write('./sample/새파일3.txt')\n",
    "    myzip.write('./sample/새파일4.txt')\n",
    "    myzip.write('./sample/새파일5.txt')"
   ]
  },
  {
   "cell_type": "code",
   "execution_count": 137,
   "id": "91940d91",
   "metadata": {},
   "outputs": [],
   "source": [
    "# 압축 해제하기\n",
    "with zipfile.ZipFile('./sample/새파일.zip') as myzip:\n",
    "    myzip.extractall()\n",
    "    "
   ]
  },
  {
   "cell_type": "markdown",
   "id": "cba15643",
   "metadata": {},
   "source": [
    "### 3-5. tarfile\n",
    "* 여러개 파일을 tar 확장자로 합쳐서 압출할 때 사용하는 모듈"
   ]
  },
  {
   "cell_type": "code",
   "execution_count": 138,
   "id": "c542f9fa",
   "metadata": {},
   "outputs": [],
   "source": [
    "import tarfile"
   ]
  },
  {
   "cell_type": "code",
   "execution_count": 142,
   "id": "dff33c22",
   "metadata": {},
   "outputs": [],
   "source": [
    "# 파일 합치고 압축하기\n",
    "with tarfile.open('./sample/새파일.tar','w') as mytar:\n",
    "    mytar.add('./sample/새파일1.txt')\n",
    "    mytar.add('./sample/새파일2.txt')\n",
    "    mytar.add('./sample/새파일3.txt')\n",
    "    mytar.add('./sample/새파일4.txt')\n",
    "    mytar.add('./sample/새파일5.txt')"
   ]
  },
  {
   "cell_type": "code",
   "execution_count": 143,
   "id": "3d7d59a0",
   "metadata": {},
   "outputs": [],
   "source": [
    "# 압축 해제하기\n",
    "with tarfile.open('./sample/새파일.tar') as mytar:\n",
    "    mytar.extractall()"
   ]
  },
  {
   "cell_type": "code",
   "execution_count": null,
   "id": "762dcf19",
   "metadata": {},
   "outputs": [],
   "source": []
  }
 ],
 "metadata": {
  "kernelspec": {
   "display_name": "Python 3 (ipykernel)",
   "language": "python",
   "name": "python3"
  },
  "language_info": {
   "codemirror_mode": {
    "name": "ipython",
    "version": 3
   },
   "file_extension": ".py",
   "mimetype": "text/x-python",
   "name": "python",
   "nbconvert_exporter": "python",
   "pygments_lexer": "ipython3",
   "version": "3.8.6"
  }
 },
 "nbformat": 4,
 "nbformat_minor": 5
}
