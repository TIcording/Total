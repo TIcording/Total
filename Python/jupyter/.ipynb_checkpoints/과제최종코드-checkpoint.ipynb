{
 "cells": [
  {
   "cell_type": "code",
   "execution_count": 14,
   "metadata": {
    "colab": {
     "base_uri": "https://localhost:8080/"
    },
    "executionInfo": {
     "elapsed": 5605,
     "status": "ok",
     "timestamp": 1679825234238,
     "user": {
      "displayName": "송태인",
      "userId": "07841994113003459229"
     },
     "user_tz": -540
    },
    "id": "r8jbmOugXJwp",
    "outputId": "85501e99-0c98-42b2-aa2f-90cce1a61b5e"
   },
   "outputs": [
    {
     "name": "stdout",
     "output_type": "stream",
     "text": [
      "Requirement already satisfied: mysqlclient in c:\\users\\administrator\\appdata\\local\\programs\\python\\python38\\lib\\site-packages (2.1.1)\n"
     ]
    },
    {
     "name": "stderr",
     "output_type": "stream",
     "text": [
      "WARNING: You are using pip version 20.2.1; however, version 23.0.1 is available.\n",
      "You should consider upgrading via the 'c:\\users\\administrator\\appdata\\local\\programs\\python\\python38\\python.exe -m pip install --upgrade pip' command.\n"
     ]
    }
   ],
   "source": [
    "!pip install mysqlclient"
   ]
  },
  {
   "cell_type": "code",
   "execution_count": 15,
   "metadata": {
    "executionInfo": {
     "elapsed": 402,
     "status": "ok",
     "timestamp": 1679835811943,
     "user": {
      "displayName": "송태인",
      "userId": "07841994113003459229"
     },
     "user_tz": -540
    },
    "id": "zhMXWZTMXHfA"
   },
   "outputs": [],
   "source": [
    "import MySQLdb"
   ]
  },
  {
   "cell_type": "code",
   "execution_count": 16,
   "metadata": {
    "executionInfo": {
     "elapsed": 2,
     "status": "ok",
     "timestamp": 1679835812408,
     "user": {
      "displayName": "송태인",
      "userId": "07841994113003459229"
     },
     "user_tz": -540
    },
    "id": "CrOIEZDlT9VJ"
   },
   "outputs": [],
   "source": [
    "class DTO:\n",
    "    def __init__(self, name, age, gender):\n",
    "        self.name = name\n",
    "        self.age = age\n",
    "        self.gender = gender\n",
    "    \n",
    "    def setName(self, name):\n",
    "        self.name = name\n",
    "    \n",
    "    def getName(self):\n",
    "        return self.name\n",
    "\n",
    "    def setAge(self, age):\n",
    "        self.age = age\n",
    "    \n",
    "    def getAge(self):\n",
    "        return self.age\n",
    "\n",
    "    def setGender(self, gender):\n",
    "        self.gender = gender\n",
    "    \n",
    "    def getGender(self):\n",
    "        return self.gender"
   ]
  },
  {
   "cell_type": "code",
   "execution_count": 17,
   "metadata": {
    "executionInfo": {
     "elapsed": 2,
     "status": "ok",
     "timestamp": 1679835812408,
     "user": {
      "displayName": "송태인",
      "userId": "07841994113003459229"
     },
     "user_tz": -540
    },
    "id": "Q0fctZ--XgPQ"
   },
   "outputs": [],
   "source": [
    "class ITDAO:\n",
    "    def __init__(self):\n",
    "        self.db = None\n",
    "    \n",
    "    def connect(self):\n",
    "        self.db = MySQLdb.connect('localhost', 'root', '1234', 'itclass')\n",
    "        \n",
    "    def disconnect(self):\n",
    "        self.db.close()\n",
    "    \n",
    "    def insert(self, it):\n",
    "        self.connect()\n",
    "        cur = self.db.cursor()\n",
    "        sql = \"insert into ai values (%s, %s, %s)\"\n",
    "        data = (it.getName(), it.getAge(), it.getGender())\n",
    "        cur.execute(sql, data)\n",
    "        self.db.commit()\n",
    "        self.disconnect()     \n",
    "\n",
    "    def insert2(self, it):\n",
    "        self.connect()\n",
    "        cur = self.db.cursor()\n",
    "        sql = \"insert into java values (%s, %s, %s)\"\n",
    "        data = (it.getName(), it.getAge(), it.getGender())\n",
    "        cur.execute(sql, data)\n",
    "        self.db.commit()\n",
    "        self.disconnect()     \n",
    "\n",
    "    def insert3(self, it):\n",
    "        self.connect()\n",
    "        cur = self.db.cursor()\n",
    "        sql = \"insert into aws values (%s, %s, %s)\"\n",
    "        data = (it.getName(), it.getAge(), it.getGender())\n",
    "        cur.execute(sql, data)\n",
    "        self.db.commit()\n",
    "        self.disconnect()     \n",
    "      \n",
    "        \n",
    "    def selectAi(self):\n",
    "        self.connect()\n",
    "        cur = self.db.cursor()\n",
    "        sql = 'select name, age, gender from ai'\n",
    "        cur.execute(sql)\n",
    "        row = cur.fetchall()\n",
    "        self.disconnect()\n",
    "        return row\n",
    "\n",
    "    def selectJava(self):\n",
    "        self.connect()\n",
    "        cur = self.db.cursor()\n",
    "        sql = 'select name, age, gender from java'\n",
    "        cur.execute(sql)\n",
    "        row = cur.fetchall()\n",
    "        self.disconnect()\n",
    "        return row\n",
    "\n",
    "    def selectAws(self):\n",
    "        self.connect()\n",
    "        cur = self.db.cursor()\n",
    "        sql = 'select name, age, gender from aws'\n",
    "        cur.execute(sql)\n",
    "        row = cur.fetchall()\n",
    "        self.disconnect()\n",
    "        return row\n",
    "\n",
    "    def searchAi(self, name):\n",
    "        self.connect()\n",
    "        cur = self.db.cursor()\n",
    "        sql = 'select name, age, gender from ai where name=%s'\n",
    "        data = (name,)     \n",
    "        cur.execute(sql, data)\n",
    "        row = cur.fetchone()\n",
    "        self.disconnect()\n",
    "        return row\n",
    "\n",
    "    def searchJava(self, name):\n",
    "        self.connect()\n",
    "        cur = self.db.cursor()\n",
    "        sql = 'select name, age, gender from java where name=%s'\n",
    "        data = (name,)     \n",
    "        cur.execute(sql, data)\n",
    "        row = cur.fetchone()\n",
    "        self.disconnect()\n",
    "        return row\n",
    "\n",
    "    def searchAws(self, name):\n",
    "        self.connect()\n",
    "        cur = self.db.cursor()\n",
    "        sql = 'select name, age, gender from aws where name=%s'\n",
    "        data = (name,)     \n",
    "        cur.execute(sql, data)\n",
    "        row = cur.fetchone()\n",
    "        self.disconnect()\n",
    "        return row\n",
    "    \n",
    "    def updateAi(self, it):\n",
    "        self.connect()\n",
    "        cur = self.db.cursor()\n",
    "        sql = 'update ai set age=%s, gender=%s where name=%s'\n",
    "        data = (it.getAge(), it.getGender(), it.getName())\n",
    "        result = cur.execute(sql, data)\n",
    "        self.db.commit()\n",
    "        if result > 0:\n",
    "            print('수정되었습니다')\n",
    "        else:\n",
    "            print('해당 학생이 없습니다')\n",
    "        self.disconnect()\n",
    "\n",
    "    def updateJava(self, it):\n",
    "        self.connect()\n",
    "        cur = self.db.cursor()\n",
    "        sql = 'update java set age=%s, gender=%s where name=%s'\n",
    "        data = (it.getAge(), it.getGender(), it.getName())\n",
    "        result = cur.execute(sql, data)\n",
    "        self.db.commit()\n",
    "        if result > 0:\n",
    "            print('수정되었습니다')\n",
    "        else:\n",
    "            print('해당 학생이 없습니다')\n",
    "        self.disconnect()\n",
    "\n",
    "    def updateAws(self, it):\n",
    "        self.connect()\n",
    "        cur = self.db.cursor()\n",
    "        sql = 'update aws set age=%s, gender=%s where name=%s'\n",
    "        data = (it.getAge(), it.getGender(), it.getName())\n",
    "        result = cur.execute(sql, data)\n",
    "        self.db.commit()\n",
    "        if result > 0:\n",
    "            print('수정되었습니다')\n",
    "        else:\n",
    "            print('해당 학생이 없습니다')\n",
    "        self.disconnect()\n",
    "    \n",
    "    def deleteAi(self, name):\n",
    "        self.connect()\n",
    "        cur = self.db.cursor()\n",
    "        sql = 'delete from ai where name=%s'\n",
    "        data = (name,)\n",
    "        result = cur.execute(sql, data)\n",
    "        self.db.commit()\n",
    "        if result > 0:\n",
    "            print('삭제되었습니다')\n",
    "        else:\n",
    "            print('해당 학생이 없습니다')\n",
    "        self.disconnect()\n",
    "\n",
    "    def deleteJava(self, name):\n",
    "        self.connect()\n",
    "        cur = self.db.cursor()\n",
    "        sql = 'delete from java where name=%s'\n",
    "        data = (name,)\n",
    "        result = cur.execute(sql, data)\n",
    "        self.db.commit()\n",
    "        if result > 0:\n",
    "            print('삭제되었습니다')\n",
    "        else:\n",
    "            print('해당 학생이 없습니다')\n",
    "        self.disconnect()\n",
    "\n",
    "    def deleteAws(self, name):\n",
    "        self.connect()\n",
    "        cur = self.db.cursor()\n",
    "        sql = 'delete from aws where name=%s'\n",
    "        data = (name,)\n",
    "        result = cur.execute(sql, data)\n",
    "        self.db.commit()\n",
    "        if result > 0:\n",
    "            print('삭제되었습니다')\n",
    "        else:\n",
    "            print('해당 학생이 없습니다')\n",
    "        self.disconnect()"
   ]
  },
  {
   "cell_type": "code",
   "execution_count": 18,
   "metadata": {
    "executionInfo": {
     "elapsed": 3,
     "status": "ok",
     "timestamp": 1679835812815,
     "user": {
      "displayName": "송태인",
      "userId": "07841994113003459229"
     },
     "user_tz": -540
    },
    "id": "1Tva25-PApox"
   },
   "outputs": [],
   "source": [
    "class Service:\n",
    "    def __init__(self):\n",
    "        self.dao = ITDAO()\n",
    "    \n",
    "    def insertData(self):\n",
    "        A =  int(input('반을 선택하세요 1.AI 2.Java 3.Aws '))      \n",
    "        name = input('이름를 입력하세요:')\n",
    "        age = input('나이을 입력하세요:')\n",
    "        gender = input('성별을 입력하세요:')\n",
    "        B = DTO(name, age, gender)\n",
    "        if A == 1:\n",
    "          self.dao.insert(B)\n",
    "        elif A == 2:\n",
    "          self.dao.insert2(B)  \n",
    "        elif A == 3:\n",
    "          self.dao.insert3(B)\n",
    "    \n",
    "    def printAll(self):\n",
    "        A =  int(input('반을 선택하세요 1.AI 2.Java 3.Aws ')) \n",
    "        if A == 1:\n",
    "          datas = self.dao.selectAi()\n",
    "        elif A == 2:\n",
    "          datas = self.dao.selectJava()\n",
    "        elif A == 3:\n",
    "          datas = self.dao.selectAws()\n",
    "        print(datas)\n",
    "    \n",
    "    def searchData(self):\n",
    "        A =  int(input('반을 선택하세요 1.AI 2.Java 3.Aws ')) \n",
    "        name = input('검색할 이름를 입력하세요')\n",
    "        if A == 1:\n",
    "          it = self.dao.searchAi(name)\n",
    "        elif A == 2:\n",
    "          it = self.dao.searchJava(name)\n",
    "        elif A == 3:\n",
    "          it = self.dao.searchAws(name)\n",
    "        if it:\n",
    "            print(it)\n",
    "        else:\n",
    "            print('해당 학생이 없습니다')\n",
    "    \n",
    "    def editData(self):\n",
    "        A =  int(input('반을 선택하세요 1.AI 2.Java 3.Aws '))\n",
    "        name = input('수정할 사람을 입력하세요')\n",
    "        if A == 1:\n",
    "          it = self.dao.searchAi(name)\n",
    "        elif A == 2:\n",
    "          it = self.dao.searchJava(name)\n",
    "        elif A == 3:\n",
    "          it = self.dao.searchAws(name) \n",
    "\n",
    "        if it == None:\n",
    "            print('수정할 사람을 찾지 못했습니다')\n",
    "        else:\n",
    "            age = input('새로운 나이를 입력하세요')\n",
    "            gender = input('새로운 성별을 입력하세요')\n",
    "            New = DTO(name, age, gender)\n",
    "        if A == 1:\n",
    "          it = self.dao.updateAi(New)\n",
    "        elif A == 2:\n",
    "          it = self.dao.updateJava(New)\n",
    "        elif A == 3:\n",
    "          it = self.dao.updateAws(New) \n",
    "   \n",
    "    def delData(self):\n",
    "        A =  int(input('반을 선택하세요 1.AI 2.Java 3.Aws '))\n",
    "        name = input('삭제할 사람을 입력하세요')\n",
    "        if A == 1:\n",
    "          it = self.dao.deleteAi(name)\n",
    "        elif A == 2:\n",
    "          it = self.dao.deleteJava(name)\n",
    "        elif A == 3:\n",
    "          it = self.dao.deleteAws(name)"
   ]
  },
  {
   "cell_type": "code",
   "execution_count": 19,
   "metadata": {
    "executionInfo": {
     "elapsed": 3,
     "status": "ok",
     "timestamp": 1679835812815,
     "user": {
      "displayName": "송태인",
      "userId": "07841994113003459229"
     },
     "user_tz": -540
    },
    "id": "IrZm6OT_AprJ"
   },
   "outputs": [],
   "source": [
    "class Menu:\n",
    "    def __init__(self):\n",
    "        self.service = Service()\n",
    "    \n",
    "    def run(self):\n",
    "        while True:\n",
    "            try:\n",
    "                print('학생관리 프로그램')\n",
    "                menu = int(input('1.등록 2.정보출력 3.학생검색 4.학생 정보 수정 5.삭제 6.프로그램종료'))\n",
    "                if menu == 1:\n",
    "                    self.service.insertData()\n",
    "                elif menu == 2:\n",
    "                    self.service.printAll()\n",
    "                elif menu == 3:\n",
    "                    self.service.searchData()\n",
    "                elif menu == 4:\n",
    "                    self.service.editData()\n",
    "                elif menu == 5:\n",
    "                    self.service.delData()\n",
    "                elif menu == 6:\n",
    "                    break\n",
    "            except Exception as e:\n",
    "                print(e)\n",
    "                print('다시 입력하세요')"
   ]
  },
  {
   "cell_type": "code",
   "execution_count": 20,
   "metadata": {
    "colab": {
     "base_uri": "https://localhost:8080/"
    },
    "executionInfo": {
     "elapsed": 31775,
     "status": "ok",
     "timestamp": 1679835867304,
     "user": {
      "displayName": "송태인",
      "userId": "07841994113003459229"
     },
     "user_tz": -540
    },
    "id": "KllkofXaAptg",
    "outputId": "0d85a941-0d0b-4c42-af3a-3c622b1d033b"
   },
   "outputs": [
    {
     "name": "stdout",
     "output_type": "stream",
     "text": [
      "학생관리 프로그램\n",
      "1.등록 2.정보출력 3.학생검색 4.학생 정보 수정 5.삭제 6.프로그램종료6\n"
     ]
    }
   ],
   "source": [
    "start = Menu()\n",
    "start.run()"
   ]
  },
  {
   "cell_type": "code",
   "execution_count": 360,
   "metadata": {},
   "outputs": [
    {
     "name": "stdout",
     "output_type": "stream",
     "text": [
      "한형진\n"
     ]
    }
   ],
   "source": [
    "#다음 사람 뽑기\n",
    "db = MySQLdb.connect('localhost', 'root', '1234', 'itclass')\n",
    "cur = db.cursor()\n",
    "sql=(\"select * from name order by rand() limit 1\")\n",
    "cur.execute(sql)\n",
    "row = cur.fetchall()\n",
    "print(row[0][0])\n",
    "db.close()"
   ]
  },
  {
   "cell_type": "code",
   "execution_count": null,
   "metadata": {},
   "outputs": [],
   "source": []
  },
  {
   "cell_type": "code",
   "execution_count": null,
   "metadata": {},
   "outputs": [],
   "source": []
  },
  {
   "cell_type": "code",
   "execution_count": null,
   "metadata": {},
   "outputs": [],
   "source": []
  },
  {
   "cell_type": "code",
   "execution_count": null,
   "metadata": {},
   "outputs": [],
   "source": []
  }
 ],
 "metadata": {
  "colab": {
   "authorship_tag": "ABX9TyMrzNcb6UrCfBo/bEkgJK31",
   "provenance": []
  },
  "kernelspec": {
   "display_name": "Python 3 (ipykernel)",
   "language": "python",
   "name": "python3"
  },
  "language_info": {
   "codemirror_mode": {
    "name": "ipython",
    "version": 3
   },
   "file_extension": ".py",
   "mimetype": "text/x-python",
   "name": "python",
   "nbconvert_exporter": "python",
   "pygments_lexer": "ipython3",
   "version": "3.8.6"
  }
 },
 "nbformat": 4,
 "nbformat_minor": 1
}
