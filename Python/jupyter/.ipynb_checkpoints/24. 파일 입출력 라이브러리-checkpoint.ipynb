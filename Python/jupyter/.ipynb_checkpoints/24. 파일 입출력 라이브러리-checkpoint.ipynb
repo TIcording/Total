{
 "cells": [
  {
   "cell_type": "markdown",
   "id": "43735030",
   "metadata": {},
   "source": [
    "# 파일 읽기 및 저장하기\n",
    "*  fileinput"
   ]
  },
  {
   "cell_type": "markdown",
   "id": "d37bc0aa",
   "metadata": {},
   "source": [
    "### 1-1. fileinput\n",
    "* 텍스트 파일을 읽고, 쓰고, 저장하는 기능을 편리하게 사용할 수 있도록 해주는 라이브러리\n",
    "* 여러개의 파일을 읽어서 수정할 수 있음"
   ]
  },
  {
   "cell_type": "code",
   "execution_count": 1,
   "id": "84bc642d",
   "metadata": {},
   "outputs": [],
   "source": [
    "import fileinput\n",
    "import os\n",
    "import glob\n"
   ]
  },
  {
   "cell_type": "code",
   "execution_count": 3,
   "id": "67c2d9c8",
   "metadata": {},
   "outputs": [
    {
     "data": {
      "text/plain": [
       "'C:\\\\JM\\\\Python\\\\jupyter'"
      ]
     },
     "execution_count": 3,
     "metadata": {},
     "output_type": "execute_result"
    }
   ],
   "source": [
    "# 현재 경로를 확인\n",
    "os.getcwd()"
   ]
  },
  {
   "cell_type": "code",
   "execution_count": 4,
   "id": "7fd2f450",
   "metadata": {},
   "outputs": [
    {
     "data": {
      "text/plain": [
       "['.ipynb_checkpoints', '24. 파일 입출력 라이브러리.ipynb']"
      ]
     },
     "execution_count": 4,
     "metadata": {},
     "output_type": "execute_result"
    }
   ],
   "source": [
    "# 디렉토리 내 파일 확인\n",
    "os.listdir(os.getcwd())"
   ]
  },
  {
   "cell_type": "code",
   "execution_count": 5,
   "id": "7199e3fc",
   "metadata": {},
   "outputs": [],
   "source": [
    "# 경로 설정\n",
    "path = 'sample/'"
   ]
  },
  {
   "cell_type": "code",
   "execution_count": 8,
   "id": "1299614e",
   "metadata": {},
   "outputs": [
    {
     "data": {
      "text/plain": [
       "['sample\\\\step1.txt',\n",
       " 'sample\\\\step2.txt',\n",
       " 'sample\\\\step3.txt',\n",
       " 'sample\\\\step4.txt',\n",
       " 'sample\\\\step5.txt']"
      ]
     },
     "execution_count": 8,
     "metadata": {},
     "output_type": "execute_result"
    }
   ],
   "source": [
    "# glob(): 해당 경로의 파일 이름을 리스트로 반환\n",
    "glob.glob(os.path.join(path,'*.txt'))"
   ]
  },
  {
   "cell_type": "code",
   "execution_count": 12,
   "id": "789f5847",
   "metadata": {},
   "outputs": [
    {
     "name": "stdout",
     "output_type": "stream",
     "text": [
      "1번째 줄입니다.\n",
      "\n",
      "2번째 줄입니다.\n",
      "\n",
      "3번째 줄입니다.\n",
      "\n",
      "4번째 줄입니다.\n",
      "\n",
      "5번째 줄입니다.\n",
      "\n",
      "6번째 줄입니다.\n",
      "7번째 줄입니다.\n",
      "\n",
      "8번째 줄입니다.\n",
      "\n",
      "9번째 줄입니다.\n",
      "10번째 줄입니다.\n",
      "\n",
      "11번째 줄입니다.\n",
      "\n",
      "12번째 줄입니다.\n",
      "13번째 줄입니다.\n",
      "\n",
      "14번째 줄입니다.\n",
      "\n",
      "15번째 줄입니다.\n"
     ]
    }
   ],
   "source": [
    "with fileinput.input(glob.glob(os.path.join(path,'*.txt'))) as f:\n",
    "    for line in f:\n",
    "        print(line)"
   ]
  },
  {
   "cell_type": "code",
   "execution_count": 14,
   "id": "8dfade11",
   "metadata": {},
   "outputs": [],
   "source": [
    "txt_files = glob.glob(os.path.join(path,'*.txt'))"
   ]
  },
  {
   "cell_type": "code",
   "execution_count": 15,
   "id": "3743f195",
   "metadata": {},
   "outputs": [
    {
     "data": {
      "text/plain": [
       "['sample\\\\step1.txt',\n",
       " 'sample\\\\step2.txt',\n",
       " 'sample\\\\step3.txt',\n",
       " 'sample\\\\step4.txt',\n",
       " 'sample\\\\step5.txt']"
      ]
     },
     "execution_count": 15,
     "metadata": {},
     "output_type": "execute_result"
    }
   ],
   "source": [
    "txt_files"
   ]
  },
  {
   "cell_type": "code",
   "execution_count": 16,
   "id": "92d46b1f",
   "metadata": {},
   "outputs": [],
   "source": [
    "#각 파일의 첫번째 라인을 찾아 변경하기\n",
    "with fileinput.input(txt_files, inplace = True) as f:\n",
    "    for line in f:\n",
    "        if f.isfirstline():\n",
    "            print('첫번째 라인 입니다.',end = '\\n')\n",
    "        else:\n",
    "            print(line,end='')"
   ]
  },
  {
   "cell_type": "code",
   "execution_count": 17,
   "id": "26e84c1b",
   "metadata": {},
   "outputs": [],
   "source": [
    "# 검색된 라인 변경하기\n",
    "with fileinput.input(txt_files, inplace = True) as f:\n",
    "    for line in f:\n",
    "        if line == '첫번째 라인 입니다.\\n':\n",
    "            print('1번째 라인 입니다.',end = '\\n')\n",
    "        else:\n",
    "            print(line,end='')"
   ]
  },
  {
   "cell_type": "code",
   "execution_count": 20,
   "id": "dc955860",
   "metadata": {},
   "outputs": [],
   "source": [
    "# 키워드 포함 라인 변경하기\n",
    "with fileinput.input(txt_files, inplace = True) as f:\n",
    "    for line in f:\n",
    "        if '줄' in line:\n",
    "            print('첫번째 줄입니다.', end = '\\n')\n",
    "        else:\n",
    "            print(line,end='')"
   ]
  },
  {
   "cell_type": "code",
   "execution_count": 21,
   "id": "9cac1669",
   "metadata": {},
   "outputs": [],
   "source": [
    "# 텍스트 치환하기\n",
    "with fileinput.input(txt_files, inplace = True) as f:\n",
    "    for line in f:\n",
    "        if '첫번째' in line:\n",
    "            print(line.replace('첫번째','두번째'), end = '')\n",
    "        else:\n",
    "            print(line,end='')"
   ]
  },
  {
   "cell_type": "code",
   "execution_count": 85,
   "id": "48d5acd7",
   "metadata": {},
   "outputs": [
    {
     "ename": "TypeError",
     "evalue": "replace() takes no keyword arguments",
     "output_type": "error",
     "traceback": [
      "\u001b[1;31m---------------------------------------------------------------------------\u001b[0m",
      "\u001b[1;31mTypeError\u001b[0m                                 Traceback (most recent call last)",
      "Cell \u001b[1;32mIn[85], line 6\u001b[0m\n\u001b[0;32m      4\u001b[0m i\u001b[38;5;241m=\u001b[39m\u001b[38;5;241m1\u001b[39m\n\u001b[0;32m      5\u001b[0m \u001b[38;5;28;01mif\u001b[39;00m \u001b[38;5;124m'\u001b[39m\u001b[38;5;124m두\u001b[39m\u001b[38;5;124m'\u001b[39m \u001b[38;5;129;01min\u001b[39;00m line:\n\u001b[1;32m----> 6\u001b[0m     \u001b[38;5;28mprint\u001b[39m(\u001b[43mline\u001b[49m\u001b[38;5;241;43m.\u001b[39;49m\u001b[43mreplace\u001b[49m\u001b[43m(\u001b[49m\u001b[38;5;124;43m'\u001b[39;49m\u001b[38;5;124;43m두\u001b[39;49m\u001b[38;5;124;43m'\u001b[39;49m\u001b[43m,\u001b[49m\u001b[43mi\u001b[49m\u001b[43m,\u001b[49m\u001b[43m \u001b[49m\u001b[43mend\u001b[49m\u001b[43m \u001b[49m\u001b[38;5;241;43m=\u001b[39;49m\u001b[43m \u001b[49m\u001b[38;5;124;43m'\u001b[39;49m\u001b[38;5;124;43m'\u001b[39;49m\u001b[43m)\u001b[49m)\n\u001b[0;32m      7\u001b[0m \u001b[38;5;28;01melse\u001b[39;00m:\n\u001b[0;32m      8\u001b[0m     \u001b[38;5;28mprint\u001b[39m(line,end\u001b[38;5;241m=\u001b[39m\u001b[38;5;124m'\u001b[39m\u001b[38;5;124m'\u001b[39m)\n",
      "\u001b[1;31mTypeError\u001b[0m: replace() takes no keyword arguments"
     ]
    }
   ],
   "source": [
    "# 키워드 포함 라인 변경하기\n",
    "with fileinput.input(txt_files, inplace = True) as f:\n",
    "    for line in f:\n",
    "        i=1\n",
    "        if '두' in line:\n",
    "            print(line.replace('두',i, end = ''))\n",
    "        else:\n",
    "            print(line,end='')\n",
    "        i+=1"
   ]
  },
  {
   "cell_type": "markdown",
   "id": "ebd53134",
   "metadata": {},
   "source": [
    "### 1-2. pickle\n",
    "* 파이썬에서 사용하는 딕셔너리, 리스트, 클래스 등의 자료형을 변환 없이 그대로 파일로 저장하고 불러올 때 사용하는 모듈"
   ]
  },
  {
   "cell_type": "code",
   "execution_count": 42,
   "id": "e20dabd1",
   "metadata": {},
   "outputs": [],
   "source": [
    "import pickle"
   ]
  },
  {
   "cell_type": "code",
   "execution_count": 43,
   "id": "e134d895",
   "metadata": {},
   "outputs": [],
   "source": [
    "data = ['apple','banana','orange']"
   ]
  },
  {
   "cell_type": "code",
   "execution_count": 44,
   "id": "1ca19011",
   "metadata": {},
   "outputs": [],
   "source": [
    "# 파일 저장\n",
    "with open('list.pkl','wb') as f:\n",
    "    pickle.dump(data,f)"
   ]
  },
  {
   "cell_type": "code",
   "execution_count": 47,
   "id": "00ee5b4f",
   "metadata": {},
   "outputs": [],
   "source": [
    "# 파일 읽기\n",
    "with open('list.pkl','rb') as f:\n",
    "    data = pickle.load(f)"
   ]
  },
  {
   "cell_type": "code",
   "execution_count": 48,
   "id": "3ee2ec71",
   "metadata": {},
   "outputs": [
    {
     "name": "stdout",
     "output_type": "stream",
     "text": [
      "<class 'list'>\n",
      "['apple', 'banana', 'orange']\n"
     ]
    }
   ],
   "source": [
    "print(type(data))\n",
    "print(data)"
   ]
  },
  {
   "cell_type": "code",
   "execution_count": 37,
   "id": "29e8bd36",
   "metadata": {},
   "outputs": [],
   "source": [
    "# 딕셔너리 저장\n",
    "data = {}\n",
    "data[1] = {'id':1,'userid':'apple','name':'김사과','gender':'여자','age':20}"
   ]
  },
  {
   "cell_type": "code",
   "execution_count": 38,
   "id": "455582a4",
   "metadata": {},
   "outputs": [],
   "source": [
    "with open('dict.pkl','wb') as f:\n",
    "    pickle.dump(data,f)"
   ]
  },
  {
   "cell_type": "code",
   "execution_count": 39,
   "id": "5d6fc42e",
   "metadata": {},
   "outputs": [],
   "source": [
    "with open('dict.pkl','rb') as f:\n",
    "    data = pickle.load(f)"
   ]
  },
  {
   "cell_type": "code",
   "execution_count": 40,
   "id": "9a15a6d9",
   "metadata": {},
   "outputs": [
    {
     "name": "stdout",
     "output_type": "stream",
     "text": [
      "{1: {'id': 1, 'userid': 'apple', 'name': '김사과', 'gender': '여자', 'age': 20}}\n"
     ]
    }
   ],
   "source": [
    "type(data)\n",
    "print(data)"
   ]
  },
  {
   "cell_type": "markdown",
   "id": "c00df5fd",
   "metadata": {},
   "source": [
    "# 2. 파일 찾기, 복사, 이동하기"
   ]
  },
  {
   "cell_type": "markdown",
   "id": "24ea3a77",
   "metadata": {},
   "source": [
    "### 2-1. 파일 확장자로 찾기"
   ]
  },
  {
   "cell_type": "code",
   "execution_count": 57,
   "id": "a8e30731",
   "metadata": {},
   "outputs": [
    {
     "data": {
      "text/plain": [
       "'C:\\\\JM\\\\Python\\\\jupyter'"
      ]
     },
     "execution_count": 57,
     "metadata": {},
     "output_type": "execute_result"
    }
   ],
   "source": [
    "# 파일 확장자로 찾기\n",
    "os.getcwd()"
   ]
  },
  {
   "cell_type": "code",
   "execution_count": 65,
   "id": "5e4eea43",
   "metadata": {},
   "outputs": [
    {
     "name": "stdout",
     "output_type": "stream",
     "text": [
      "주피터 노트북.txt\n"
     ]
    }
   ],
   "source": [
    "for filename in glob.glob('*.txt'):\n",
    "    print(filename)"
   ]
  },
  {
   "cell_type": "code",
   "execution_count": 66,
   "id": "7f645615",
   "metadata": {},
   "outputs": [
    {
     "name": "stdout",
     "output_type": "stream",
     "text": [
      "sample\\step1.txt\n",
      "sample\\step2.txt\n",
      "sample\\step3.txt\n",
      "sample\\step4.txt\n",
      "sample\\step5.txt\n"
     ]
    }
   ],
   "source": [
    "# txt 파일 찾기 : 하위 경로\n",
    "for filename in glob.glob('**/*.txt'):\n",
    "    print(filename)"
   ]
  },
  {
   "cell_type": "code",
   "execution_count": 67,
   "id": "4d4611ed",
   "metadata": {},
   "outputs": [
    {
     "name": "stdout",
     "output_type": "stream",
     "text": [
      "주피터 노트북.txt\n",
      "sample\\step1.txt\n",
      "sample\\step2.txt\n",
      "sample\\step3.txt\n",
      "sample\\step4.txt\n",
      "sample\\step5.txt\n"
     ]
    }
   ],
   "source": [
    "# txt 파일 찾기: 현재와 하위 경로 모두 포함\n",
    "for filename in glob.glob('**/*.txt',recursive = True):\n",
    "    print(filename)"
   ]
  },
  {
   "cell_type": "code",
   "execution_count": 68,
   "id": "f19ef747",
   "metadata": {},
   "outputs": [
    {
     "name": "stdout",
     "output_type": "stream",
     "text": [
      "dict.pkl\n",
      "list.pkl\n"
     ]
    }
   ],
   "source": [
    "# 파일명 글자수로 찾기\n",
    "for filename in glob.glob('????.*',recursive = True): # 글자수 4개\n",
    "    print(filename)"
   ]
  },
  {
   "cell_type": "code",
   "execution_count": 70,
   "id": "c51e7642",
   "metadata": {},
   "outputs": [
    {
     "name": "stdout",
     "output_type": "stream",
     "text": [
      "주피터 노트북.txt\n"
     ]
    }
   ],
   "source": [
    "for filename in glob.glob('???????.*',recursive = True): # 글자수 7개\n",
    "    print(filename)"
   ]
  },
  {
   "cell_type": "code",
   "execution_count": 74,
   "id": "5acf3a22",
   "metadata": {},
   "outputs": [
    {
     "name": "stdout",
     "output_type": "stream",
     "text": [
      "dict.pkl\n",
      "list.pkl\n"
     ]
    }
   ],
   "source": [
    "# 문자열 패턴 포함 파일명 찾기\n",
    "for filename in glob.glob('[a-z][a-z][a-z][a-z].*',recursive = True): # 알파벳 글자수 4\n",
    "    print(filename)"
   ]
  },
  {
   "cell_type": "code",
   "execution_count": 75,
   "id": "ab20bfc1",
   "metadata": {},
   "outputs": [
    {
     "name": "stdout",
     "output_type": "stream",
     "text": [
      "sample\\step1.txt\n",
      "sample\\step2.txt\n",
      "sample\\step3.txt\n",
      "sample\\step4.txt\n",
      "sample\\step5.txt\n"
     ]
    }
   ],
   "source": [
    "for filename in glob.glob('**/step*.*'): # 하위폴더 안의 step으로 시작하는 파일\n",
    "    print(filename)"
   ]
  },
  {
   "cell_type": "code",
   "execution_count": 76,
   "id": "c4453a20",
   "metadata": {},
   "outputs": [
    {
     "name": "stdout",
     "output_type": "stream",
     "text": [
      "project\\25.프로젝트 실습.ipynb\n",
      "project\\프로젝트 개요.txt\n"
     ]
    }
   ],
   "source": [
    "for filename in glob.glob('**/*프로젝트*.*'): \n",
    "    print(filename)"
   ]
  },
  {
   "cell_type": "markdown",
   "id": "3c2c118b",
   "metadata": {},
   "source": [
    "### 2-2. fnmatch\n",
    "* glob과 동일하게 특정한 패턴으로 따르는 파일명을 찾아주는 모듈\n",
    "* 파일명 매칭 여부를 True, False 형태로 반환하기 때문에 os.listdir()함수와 함께 사용"
   ]
  },
  {
   "cell_type": "code",
   "execution_count": 77,
   "id": "2111e352",
   "metadata": {},
   "outputs": [],
   "source": [
    "import fnmatch"
   ]
  },
  {
   "cell_type": "code",
   "execution_count": 79,
   "id": "413b39db",
   "metadata": {},
   "outputs": [
    {
     "name": "stdout",
     "output_type": "stream",
     "text": [
      "step1.txt\n",
      "step2.txt\n",
      "step3.txt\n",
      "step4.txt\n",
      "step5.txt\n"
     ]
    }
   ],
   "source": [
    "# 파일명은 '새'로 시작하고 확장명은 .txt를 검색\n",
    "# 확장자를 제외한 파일명의 길이는 4개이며, 파일명의 마지막 문자는 숫자임\n",
    "for filename in os.listdir('./sample'):\n",
    "    if fnmatch.fnmatch(filename,'s???[0-9].txt'):\n",
    "        print(filename)"
   ]
  },
  {
   "cell_type": "markdown",
   "id": "ffe8584e",
   "metadata": {},
   "source": [
    "### 2-3. shutil\n",
    "* 파일을 복사하거나 이동할 때 사용하는 내장 모듈"
   ]
  },
  {
   "cell_type": "code",
   "execution_count": 89,
   "id": "975b8fa6",
   "metadata": {},
   "outputs": [],
   "source": [
    "# 파일 복사하기\n",
    "import shutil"
   ]
  },
  {
   "cell_type": "code",
   "execution_count": 92,
   "id": "db3dd017",
   "metadata": {},
   "outputs": [
    {
     "data": {
      "text/plain": [
       "'./sample/step1_복사본.txt'"
      ]
     },
     "execution_count": 92,
     "metadata": {},
     "output_type": "execute_result"
    }
   ],
   "source": [
    "shutil.copy('./sample/step1.txt','./sample/step1_복사본.txt')"
   ]
  },
  {
   "cell_type": "code",
   "execution_count": null,
   "id": "4903d94a",
   "metadata": {},
   "outputs": [],
   "source": []
  }
 ],
 "metadata": {
  "kernelspec": {
   "display_name": "Python 3 (ipykernel)",
   "language": "python",
   "name": "python3"
  },
  "language_info": {
   "codemirror_mode": {
    "name": "ipython",
    "version": 3
   },
   "file_extension": ".py",
   "mimetype": "text/x-python",
   "name": "python",
   "nbconvert_exporter": "python",
   "pygments_lexer": "ipython3",
   "version": "3.8.6"
  }
 },
 "nbformat": 4,
 "nbformat_minor": 5
}
