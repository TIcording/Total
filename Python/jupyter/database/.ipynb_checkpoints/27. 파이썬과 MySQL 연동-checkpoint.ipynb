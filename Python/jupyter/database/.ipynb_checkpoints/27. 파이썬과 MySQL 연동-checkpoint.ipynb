{
 "cells": [
  {
   "cell_type": "markdown",
   "id": "c9fdcfff",
   "metadata": {},
   "source": [
    "# 1.mysqclient\n",
    "* 파이썬에서는 MySQL 서버와 통신할 수 있는 파이썬용 데이터베이스 커넥터의 종류가 여러가지 있음\n",
    "* 가장 많이 사용되는 커넥터는 PyMySQL,mysqlclient가 있음\n",
    "* 사용법은 비슷하나 속도가 빠른 mysqlclient를 권장하고 있음"
   ]
  },
  {
   "cell_type": "code",
   "execution_count": 1,
   "id": "8abe9a6d",
   "metadata": {},
   "outputs": [
    {
     "name": "stdout",
     "output_type": "stream",
     "text": [
      "Requirement already satisfied: mysqlclient in c:\\users\\administrator\\appdata\\local\\programs\\python\\python38\\lib\\site-packages (2.1.1)\n"
     ]
    },
    {
     "name": "stderr",
     "output_type": "stream",
     "text": [
      "WARNING: You are using pip version 20.2.1; however, version 23.0.1 is available.\n",
      "You should consider upgrading via the 'c:\\users\\administrator\\appdata\\local\\programs\\python\\python38\\python.exe -m pip install --upgrade pip' command.\n"
     ]
    }
   ],
   "source": [
    "!pip install mysqlclient"
   ]
  },
  {
   "cell_type": "code",
   "execution_count": 2,
   "id": "544749e2",
   "metadata": {},
   "outputs": [],
   "source": [
    "import MySQLdb"
   ]
  },
  {
   "cell_type": "code",
   "execution_count": 3,
   "id": "dfd8d378",
   "metadata": {},
   "outputs": [],
   "source": [
    "# host : IP주소 , localhost에 연결되있음 ,localhost = 127.0.0.1\n",
    "# user :  root\n",
    "# password : 1234\n",
    "# db : 데이터베이스 ,kdt\n",
    "\n",
    "db =MySQLdb.connect(host = 'localhost',user ='root', password='1234', db='kdt' )\n",
    "#db =MySQLdb.connect('localhost','root','1234','kdt') 와 동일\n",
    "\n"
   ]
  },
  {
   "cell_type": "markdown",
   "id": "031615ec",
   "metadata": {},
   "source": [
    "# 2. cursor 생성하기\n",
    "* 하나의 DataBase Connection에 대하여 독립적으로 SQL문을 실행할 수 있는 작업환경을 제공하는 객체\n",
    "* 하나의 connection에 동시에 한 개의 cursor만 생성할 수 있으며, cursor를 통해 SQL문을 실행하면 실행결과를 튜플 단위로 반환\n",
    "\n",
    "\n",
    "\n",
    "\n",
    "\n",
    "\n",
    "\n",
    "\n",
    "\n",
    "\n",
    "\n"
   ]
  },
  {
   "cell_type": "code",
   "execution_count": 4,
   "id": "63610a43",
   "metadata": {},
   "outputs": [
    {
     "data": {
      "text/plain": [
       "10"
      ]
     },
     "execution_count": 4,
     "metadata": {},
     "output_type": "execute_result"
    }
   ],
   "source": [
    "cur = db.cursor()  #작업환경 만들기\n",
    "sql = 'select userid,username,hp,email,gender from member' #cur,sql ->그냥 변수명\n",
    "\n",
    "#cur.execute(쿼리구문)\n",
    "cur.execute(sql) # - > 6 데이터 갯수가 6개"
   ]
  },
  {
   "cell_type": "markdown",
   "id": "bb4e43c2",
   "metadata": {},
   "source": [
    "# 3.SQL문 결과 가져오기\n",
    "\n",
    "* fetchall(): 한번의 모든 tuple을 가져옴 . 검색결고가 매우 크다면 메모리 오버헤드(메모리가 꽉 차는것)가발생할 수 있음\n",
    "\n",
    "* fetchone(): 한번에 하나의 tuple을 가져옴 ,다시 메서드를 호출하면 다음 데이터 하나를 가져옴\n",
    "\n"
   ]
  },
  {
   "cell_type": "code",
   "execution_count": 5,
   "id": "03f07093",
   "metadata": {},
   "outputs": [
    {
     "name": "stdout",
     "output_type": "stream",
     "text": [
      "(('1', '1', '1', '1', '1'), ('apple', '김사과', '01015624525', 'apple@gamil.com', '남자'), ('avocado', '안카도', '010-0000-0000', 'avocado@email', '남자'), ('banana', '박나나', '01025624525', 'banana@naver.com', '여자'), ('grape', '백포도', '01015612525', 'grape@gamil.com', '여자'), ('mango', '마앙고', '010-0000-0000', 'mango@mango', '남자'), ('melon', '나메론', '01019214525', 'melon@gamil.com', '여자'), ('orange', '이렌지', '01000624525', 'orange@gamil.com', '여자'), ('peach', '피이치', '010-0000-0000', 'peach@peach', '여자'), ('strawberry', '배애리', '01015612525', 'strawberry@gamil.com', '남자'))\n"
     ]
    }
   ],
   "source": [
    "row = cur.fetchall()\n",
    "print(row)\n",
    "#다시 실행하면 안됨 -> 이미다 가져온뒤이기 때문"
   ]
  },
  {
   "cell_type": "code",
   "execution_count": 6,
   "id": "5c580b16",
   "metadata": {},
   "outputs": [
    {
     "name": "stdout",
     "output_type": "stream",
     "text": [
      "None\n"
     ]
    }
   ],
   "source": [
    "row = cur.fetchone()\n",
    "print(row)\n",
    "#위에서 다 돌앗기 때문에 없음 "
   ]
  },
  {
   "cell_type": "code",
   "execution_count": 7,
   "id": "6ad06f61",
   "metadata": {},
   "outputs": [
    {
     "name": "stdout",
     "output_type": "stream",
     "text": [
      "('1', '1', '1', '1', '1')\n"
     ]
    }
   ],
   "source": [
    "cur.execute(sql)   # 다시실행\n",
    "\n",
    "row = cur.fetchone()\n",
    "print(row)"
   ]
  },
  {
   "cell_type": "code",
   "execution_count": 8,
   "id": "19268dec",
   "metadata": {},
   "outputs": [
    {
     "name": "stdout",
     "output_type": "stream",
     "text": [
      "('1', '1', '1', '1', '1')\n",
      "('apple', '김사과', '01015624525', 'apple@gamil.com', '남자')\n",
      "('avocado', '안카도', '010-0000-0000', 'avocado@email', '남자')\n",
      "('banana', '박나나', '01025624525', 'banana@naver.com', '여자')\n",
      "('grape', '백포도', '01015612525', 'grape@gamil.com', '여자')\n",
      "('mango', '마앙고', '010-0000-0000', 'mango@mango', '남자')\n",
      "('melon', '나메론', '01019214525', 'melon@gamil.com', '여자')\n",
      "('orange', '이렌지', '01000624525', 'orange@gamil.com', '여자')\n",
      "('peach', '피이치', '010-0000-0000', 'peach@peach', '여자')\n",
      "('strawberry', '배애리', '01015612525', 'strawberry@gamil.com', '남자')\n"
     ]
    }
   ],
   "source": [
    "#fetchone() 을 이용하여 루프를 돌면서 모든 데이터 를 출력하기\n",
    "cur.execute(sql)\n",
    "\n",
    "while True:\n",
    "    row = cur.fetchone()\n",
    "    if row:\n",
    "        print(row)\n",
    "    else:\n",
    "        break"
   ]
  },
  {
   "cell_type": "code",
   "execution_count": 9,
   "id": "c9c641cb",
   "metadata": {},
   "outputs": [
    {
     "name": "stdout",
     "output_type": "stream",
     "text": [
      "아이디: 1, 이름: 1, 전화번호: 1, 이메일: 1, 성별: 1\n",
      "아이디: apple, 이름: 김사과, 전화번호: 01015624525, 이메일: apple@gamil.com, 성별: 남자\n",
      "아이디: avocado, 이름: 안카도, 전화번호: 010-0000-0000, 이메일: avocado@email, 성별: 남자\n",
      "아이디: banana, 이름: 박나나, 전화번호: 01025624525, 이메일: banana@naver.com, 성별: 여자\n",
      "아이디: grape, 이름: 백포도, 전화번호: 01015612525, 이메일: grape@gamil.com, 성별: 여자\n",
      "아이디: mango, 이름: 마앙고, 전화번호: 010-0000-0000, 이메일: mango@mango, 성별: 남자\n",
      "아이디: melon, 이름: 나메론, 전화번호: 01019214525, 이메일: melon@gamil.com, 성별: 여자\n",
      "아이디: orange, 이름: 이렌지, 전화번호: 01000624525, 이메일: orange@gamil.com, 성별: 여자\n",
      "아이디: peach, 이름: 피이치, 전화번호: 010-0000-0000, 이메일: peach@peach, 성별: 여자\n",
      "아이디: strawberry, 이름: 배애리, 전화번호: 01015612525, 이메일: strawberry@gamil.com, 성별: 남자\n"
     ]
    }
   ],
   "source": [
    "# cursor에 dictionary 형식으로 row를 유지하도록 내부 타입을 명시\n",
    "cur = db.cursor(MySQLdb.cursors.DictCursor)\n",
    "cur.execute(sql)\n",
    "while True:\n",
    "    row = cur.fetchone()\n",
    "    if row:\n",
    "        print(f\"아이디: {row['userid']}, 이름: {row['username']}, 전화번호: {row['hp']}, 이메일: {row['email']}, 성별: {row['gender']}\")\n",
    "    else:\n",
    "        break"
   ]
  },
  {
   "cell_type": "markdown",
   "id": "1ecfcf73",
   "metadata": {},
   "source": [
    "# 4. Coursor와 Connetcion 닫아주기\n"
   ]
  },
  {
   "cell_type": "code",
   "execution_count": null,
   "id": "14c256f5",
   "metadata": {},
   "outputs": [],
   "source": [
    "cur.close() # 커서 닫기\n",
    "db.close()  # 커넥션 닫기"
   ]
  },
  {
   "cell_type": "markdown",
   "id": "34cd1e36",
   "metadata": {},
   "source": [
    "# 5.데이터 삽입하기\n",
    "\n"
   ]
  },
  {
   "cell_type": "code",
   "execution_count": 10,
   "id": "881ea084",
   "metadata": {},
   "outputs": [
    {
     "ename": "IntegrityError",
     "evalue": "(1062, \"Duplicate entry 'avocado' for key 'member.PRIMARY'\")",
     "output_type": "error",
     "traceback": [
      "\u001b[1;31m---------------------------------------------------------------------------\u001b[0m",
      "\u001b[1;31mIntegrityError\u001b[0m                            Traceback (most recent call last)",
      "Cell \u001b[1;32mIn[10], line 3\u001b[0m\n\u001b[0;32m      1\u001b[0m sql \u001b[38;5;241m=\u001b[39m \u001b[38;5;124m\"\u001b[39m\u001b[38;5;124minsert into member(userid,userpw,username,hp,email,gender,ssn1,ssn2) values(\u001b[39m\u001b[38;5;132;01m%s\u001b[39;00m\u001b[38;5;124m,\u001b[39m\u001b[38;5;132;01m%s\u001b[39;00m\u001b[38;5;124m,\u001b[39m\u001b[38;5;132;01m%s\u001b[39;00m\u001b[38;5;124m,\u001b[39m\u001b[38;5;132;01m%s\u001b[39;00m\u001b[38;5;124m,\u001b[39m\u001b[38;5;132;01m%s\u001b[39;00m\u001b[38;5;124m,\u001b[39m\u001b[38;5;132;01m%s\u001b[39;00m\u001b[38;5;124m,\u001b[39m\u001b[38;5;132;01m%s\u001b[39;00m\u001b[38;5;124m,\u001b[39m\u001b[38;5;132;01m%s\u001b[39;00m\u001b[38;5;124m)\u001b[39m\u001b[38;5;124m\"\u001b[39m\n\u001b[0;32m      2\u001b[0m data \u001b[38;5;241m=\u001b[39m (\u001b[38;5;124m'\u001b[39m\u001b[38;5;124mavocado\u001b[39m\u001b[38;5;124m'\u001b[39m,\u001b[38;5;124m'\u001b[39m\u001b[38;5;124m0000\u001b[39m\u001b[38;5;124m'\u001b[39m,\u001b[38;5;124m'\u001b[39m\u001b[38;5;124m안카도\u001b[39m\u001b[38;5;124m'\u001b[39m,\u001b[38;5;124m'\u001b[39m\u001b[38;5;124m010-0000-0000\u001b[39m\u001b[38;5;124m'\u001b[39m,\u001b[38;5;124m'\u001b[39m\u001b[38;5;124mavocado@email\u001b[39m\u001b[38;5;124m'\u001b[39m,\u001b[38;5;124m'\u001b[39m\u001b[38;5;124m남자\u001b[39m\u001b[38;5;124m'\u001b[39m,\u001b[38;5;124m'\u001b[39m\u001b[38;5;124m000000\u001b[39m\u001b[38;5;124m'\u001b[39m,\u001b[38;5;124m'\u001b[39m\u001b[38;5;124m0000000\u001b[39m\u001b[38;5;124m'\u001b[39m)\n\u001b[1;32m----> 3\u001b[0m \u001b[43mcur\u001b[49m\u001b[38;5;241;43m.\u001b[39;49m\u001b[43mexecute\u001b[49m\u001b[43m(\u001b[49m\u001b[43msql\u001b[49m\u001b[43m,\u001b[49m\u001b[43m \u001b[49m\u001b[43mdata\u001b[49m\u001b[43m)\u001b[49m \u001b[38;5;66;03m# sql을 실행하면서 값을 data를 넣어준다 %s에\u001b[39;00m\n\u001b[0;32m      4\u001b[0m db\u001b[38;5;241m.\u001b[39mcommit()\n",
      "File \u001b[1;32mc:\\users\\administrator\\appdata\\local\\programs\\python\\python38\\lib\\site-packages\\MySQLdb\\cursors.py:206\u001b[0m, in \u001b[0;36mBaseCursor.execute\u001b[1;34m(self, query, args)\u001b[0m\n\u001b[0;32m    203\u001b[0m         \u001b[38;5;28;01mraise\u001b[39;00m ProgrammingError(\u001b[38;5;28mstr\u001b[39m(m))\n\u001b[0;32m    205\u001b[0m \u001b[38;5;28;01massert\u001b[39;00m \u001b[38;5;28misinstance\u001b[39m(query, (\u001b[38;5;28mbytes\u001b[39m, \u001b[38;5;28mbytearray\u001b[39m))\n\u001b[1;32m--> 206\u001b[0m res \u001b[38;5;241m=\u001b[39m \u001b[38;5;28;43mself\u001b[39;49m\u001b[38;5;241;43m.\u001b[39;49m\u001b[43m_query\u001b[49m\u001b[43m(\u001b[49m\u001b[43mquery\u001b[49m\u001b[43m)\u001b[49m\n\u001b[0;32m    207\u001b[0m \u001b[38;5;28;01mreturn\u001b[39;00m res\n",
      "File \u001b[1;32mc:\\users\\administrator\\appdata\\local\\programs\\python\\python38\\lib\\site-packages\\MySQLdb\\cursors.py:319\u001b[0m, in \u001b[0;36mBaseCursor._query\u001b[1;34m(self, q)\u001b[0m\n\u001b[0;32m    317\u001b[0m db \u001b[38;5;241m=\u001b[39m \u001b[38;5;28mself\u001b[39m\u001b[38;5;241m.\u001b[39m_get_db()\n\u001b[0;32m    318\u001b[0m \u001b[38;5;28mself\u001b[39m\u001b[38;5;241m.\u001b[39m_result \u001b[38;5;241m=\u001b[39m \u001b[38;5;28;01mNone\u001b[39;00m\n\u001b[1;32m--> 319\u001b[0m \u001b[43mdb\u001b[49m\u001b[38;5;241;43m.\u001b[39;49m\u001b[43mquery\u001b[49m\u001b[43m(\u001b[49m\u001b[43mq\u001b[49m\u001b[43m)\u001b[49m\n\u001b[0;32m    320\u001b[0m \u001b[38;5;28mself\u001b[39m\u001b[38;5;241m.\u001b[39m_do_get_result(db)\n\u001b[0;32m    321\u001b[0m \u001b[38;5;28mself\u001b[39m\u001b[38;5;241m.\u001b[39m_post_get_result()\n",
      "File \u001b[1;32mc:\\users\\administrator\\appdata\\local\\programs\\python\\python38\\lib\\site-packages\\MySQLdb\\connections.py:254\u001b[0m, in \u001b[0;36mConnection.query\u001b[1;34m(self, query)\u001b[0m\n\u001b[0;32m    252\u001b[0m \u001b[38;5;28;01mif\u001b[39;00m \u001b[38;5;28misinstance\u001b[39m(query, \u001b[38;5;28mbytearray\u001b[39m):\n\u001b[0;32m    253\u001b[0m     query \u001b[38;5;241m=\u001b[39m \u001b[38;5;28mbytes\u001b[39m(query)\n\u001b[1;32m--> 254\u001b[0m \u001b[43m_mysql\u001b[49m\u001b[38;5;241;43m.\u001b[39;49m\u001b[43mconnection\u001b[49m\u001b[38;5;241;43m.\u001b[39;49m\u001b[43mquery\u001b[49m\u001b[43m(\u001b[49m\u001b[38;5;28;43mself\u001b[39;49m\u001b[43m,\u001b[49m\u001b[43m \u001b[49m\u001b[43mquery\u001b[49m\u001b[43m)\u001b[49m\n",
      "\u001b[1;31mIntegrityError\u001b[0m: (1062, \"Duplicate entry 'avocado' for key 'member.PRIMARY'\")"
     ]
    }
   ],
   "source": [
    "sql = \"insert into member(userid,userpw,username,hp,email,gender,ssn1,ssn2) values(%s,%s,%s,%s,%s,%s,%s,%s)\"\n",
    "data = ('avocado','0000','안카도','010-0000-0000','avocado@email','남자','000000','0000000')\n",
    "cur.execute(sql, data) # sql을 실행하면서 값을 data를 넣어준다 %s에\n",
    "db.commit()"
   ]
  },
  {
   "cell_type": "code",
   "execution_count": 12,
   "id": "078aada2",
   "metadata": {},
   "outputs": [
    {
     "ename": "IntegrityError",
     "evalue": "(1062, \"Duplicate entry 'mango' for key 'member.PRIMARY'\")",
     "output_type": "error",
     "traceback": [
      "\u001b[1;31m---------------------------------------------------------------------------\u001b[0m",
      "\u001b[1;31mIntegrityError\u001b[0m                            Traceback (most recent call last)",
      "Cell \u001b[1;32mIn[12], line 4\u001b[0m\n\u001b[0;32m      1\u001b[0m sql \u001b[38;5;241m=\u001b[39m \u001b[38;5;124m\"\u001b[39m\u001b[38;5;124minsert into member(userid,userpw,username,hp,email,gender,ssn1,ssn2) values(\u001b[39m\u001b[38;5;132;01m%s\u001b[39;00m\u001b[38;5;124m,\u001b[39m\u001b[38;5;132;01m%s\u001b[39;00m\u001b[38;5;124m,\u001b[39m\u001b[38;5;132;01m%s\u001b[39;00m\u001b[38;5;124m,\u001b[39m\u001b[38;5;132;01m%s\u001b[39;00m\u001b[38;5;124m,\u001b[39m\u001b[38;5;132;01m%s\u001b[39;00m\u001b[38;5;124m,\u001b[39m\u001b[38;5;132;01m%s\u001b[39;00m\u001b[38;5;124m,\u001b[39m\u001b[38;5;132;01m%s\u001b[39;00m\u001b[38;5;124m,\u001b[39m\u001b[38;5;132;01m%s\u001b[39;00m\u001b[38;5;124m)\u001b[39m\u001b[38;5;124m\"\u001b[39m\n\u001b[0;32m      2\u001b[0m data \u001b[38;5;241m=\u001b[39m (\u001b[38;5;124m'\u001b[39m\u001b[38;5;124mmango\u001b[39m\u001b[38;5;124m'\u001b[39m,\u001b[38;5;124m'\u001b[39m\u001b[38;5;124m0000\u001b[39m\u001b[38;5;124m'\u001b[39m,\u001b[38;5;124m'\u001b[39m\u001b[38;5;124m마앙고\u001b[39m\u001b[38;5;124m'\u001b[39m,\u001b[38;5;124m'\u001b[39m\u001b[38;5;124m010-0000-0000\u001b[39m\u001b[38;5;124m'\u001b[39m,\u001b[38;5;124m'\u001b[39m\u001b[38;5;124mmango@mango\u001b[39m\u001b[38;5;124m'\u001b[39m,\u001b[38;5;124m'\u001b[39m\u001b[38;5;124m남자\u001b[39m\u001b[38;5;124m'\u001b[39m,\u001b[38;5;124m'\u001b[39m\u001b[38;5;124m000000\u001b[39m\u001b[38;5;124m'\u001b[39m,\u001b[38;5;124m'\u001b[39m\u001b[38;5;124m0000000\u001b[39m\u001b[38;5;124m'\u001b[39m),(\u001b[38;5;124m'\u001b[39m\u001b[38;5;124mpeach\u001b[39m\u001b[38;5;124m'\u001b[39m,\u001b[38;5;124m'\u001b[39m\u001b[38;5;124m0000\u001b[39m\u001b[38;5;124m'\u001b[39m,\u001b[38;5;124m'\u001b[39m\u001b[38;5;124m피이치\u001b[39m\u001b[38;5;124m'\u001b[39m,\u001b[38;5;124m'\u001b[39m\u001b[38;5;124m010-0000-0000\u001b[39m\u001b[38;5;124m'\u001b[39m,\u001b[38;5;124m'\u001b[39m\u001b[38;5;124mpeach@peach\u001b[39m\u001b[38;5;124m'\u001b[39m,\u001b[38;5;124m'\u001b[39m\u001b[38;5;124m여자\u001b[39m\u001b[38;5;124m'\u001b[39m,\u001b[38;5;124m'\u001b[39m\u001b[38;5;124m000000\u001b[39m\u001b[38;5;124m'\u001b[39m,\u001b[38;5;124m'\u001b[39m\u001b[38;5;124m0000000\u001b[39m\u001b[38;5;124m'\u001b[39m)\n\u001b[1;32m----> 4\u001b[0m \u001b[43mcur\u001b[49m\u001b[38;5;241;43m.\u001b[39;49m\u001b[43mexecutemany\u001b[49m\u001b[43m(\u001b[49m\u001b[43msql\u001b[49m\u001b[43m,\u001b[49m\u001b[43mdata\u001b[49m\u001b[43m)\u001b[49m\n\u001b[0;32m      5\u001b[0m db\u001b[38;5;241m.\u001b[39mcommit\n",
      "File \u001b[1;32mc:\\users\\administrator\\appdata\\local\\programs\\python\\python38\\lib\\site-packages\\MySQLdb\\cursors.py:230\u001b[0m, in \u001b[0;36mBaseCursor.executemany\u001b[1;34m(self, query, args)\u001b[0m\n\u001b[0;32m    228\u001b[0m     q_postfix \u001b[38;5;241m=\u001b[39m m\u001b[38;5;241m.\u001b[39mgroup(\u001b[38;5;241m3\u001b[39m) \u001b[38;5;129;01mor\u001b[39;00m \u001b[38;5;124m\"\u001b[39m\u001b[38;5;124m\"\u001b[39m\n\u001b[0;32m    229\u001b[0m     \u001b[38;5;28;01massert\u001b[39;00m q_values[\u001b[38;5;241m0\u001b[39m] \u001b[38;5;241m==\u001b[39m \u001b[38;5;124m\"\u001b[39m\u001b[38;5;124m(\u001b[39m\u001b[38;5;124m\"\u001b[39m \u001b[38;5;129;01mand\u001b[39;00m q_values[\u001b[38;5;241m-\u001b[39m\u001b[38;5;241m1\u001b[39m] \u001b[38;5;241m==\u001b[39m \u001b[38;5;124m\"\u001b[39m\u001b[38;5;124m)\u001b[39m\u001b[38;5;124m\"\u001b[39m\n\u001b[1;32m--> 230\u001b[0m     \u001b[38;5;28;01mreturn\u001b[39;00m \u001b[38;5;28;43mself\u001b[39;49m\u001b[38;5;241;43m.\u001b[39;49m\u001b[43m_do_execute_many\u001b[49m\u001b[43m(\u001b[49m\n\u001b[0;32m    231\u001b[0m \u001b[43m        \u001b[49m\u001b[43mq_prefix\u001b[49m\u001b[43m,\u001b[49m\n\u001b[0;32m    232\u001b[0m \u001b[43m        \u001b[49m\u001b[43mq_values\u001b[49m\u001b[43m,\u001b[49m\n\u001b[0;32m    233\u001b[0m \u001b[43m        \u001b[49m\u001b[43mq_postfix\u001b[49m\u001b[43m,\u001b[49m\n\u001b[0;32m    234\u001b[0m \u001b[43m        \u001b[49m\u001b[43margs\u001b[49m\u001b[43m,\u001b[49m\n\u001b[0;32m    235\u001b[0m \u001b[43m        \u001b[49m\u001b[38;5;28;43mself\u001b[39;49m\u001b[38;5;241;43m.\u001b[39;49m\u001b[43mmax_stmt_length\u001b[49m\u001b[43m,\u001b[49m\n\u001b[0;32m    236\u001b[0m \u001b[43m        \u001b[49m\u001b[38;5;28;43mself\u001b[39;49m\u001b[38;5;241;43m.\u001b[39;49m\u001b[43m_get_db\u001b[49m\u001b[43m(\u001b[49m\u001b[43m)\u001b[49m\u001b[38;5;241;43m.\u001b[39;49m\u001b[43mencoding\u001b[49m\u001b[43m,\u001b[49m\n\u001b[0;32m    237\u001b[0m \u001b[43m    \u001b[49m\u001b[43m)\u001b[49m\n\u001b[0;32m    239\u001b[0m \u001b[38;5;28mself\u001b[39m\u001b[38;5;241m.\u001b[39mrowcount \u001b[38;5;241m=\u001b[39m \u001b[38;5;28msum\u001b[39m(\u001b[38;5;28mself\u001b[39m\u001b[38;5;241m.\u001b[39mexecute(query, arg) \u001b[38;5;28;01mfor\u001b[39;00m arg \u001b[38;5;129;01min\u001b[39;00m args)\n\u001b[0;32m    240\u001b[0m \u001b[38;5;28;01mreturn\u001b[39;00m \u001b[38;5;28mself\u001b[39m\u001b[38;5;241m.\u001b[39mrowcount\n",
      "File \u001b[1;32mc:\\users\\administrator\\appdata\\local\\programs\\python\\python38\\lib\\site-packages\\MySQLdb\\cursors.py:266\u001b[0m, in \u001b[0;36mBaseCursor._do_execute_many\u001b[1;34m(self, prefix, values, postfix, args, max_stmt_length, encoding)\u001b[0m\n\u001b[0;32m    264\u001b[0m         sql \u001b[38;5;241m+\u001b[39m\u001b[38;5;241m=\u001b[39m \u001b[38;5;124mb\u001b[39m\u001b[38;5;124m\"\u001b[39m\u001b[38;5;124m,\u001b[39m\u001b[38;5;124m\"\u001b[39m\n\u001b[0;32m    265\u001b[0m     sql \u001b[38;5;241m+\u001b[39m\u001b[38;5;241m=\u001b[39m v\n\u001b[1;32m--> 266\u001b[0m rows \u001b[38;5;241m+\u001b[39m\u001b[38;5;241m=\u001b[39m \u001b[38;5;28;43mself\u001b[39;49m\u001b[38;5;241;43m.\u001b[39;49m\u001b[43mexecute\u001b[49m\u001b[43m(\u001b[49m\u001b[43msql\u001b[49m\u001b[43m \u001b[49m\u001b[38;5;241;43m+\u001b[39;49m\u001b[43m \u001b[49m\u001b[43mpostfix\u001b[49m\u001b[43m)\u001b[49m\n\u001b[0;32m    267\u001b[0m \u001b[38;5;28mself\u001b[39m\u001b[38;5;241m.\u001b[39mrowcount \u001b[38;5;241m=\u001b[39m rows\n\u001b[0;32m    268\u001b[0m \u001b[38;5;28;01mreturn\u001b[39;00m rows\n",
      "File \u001b[1;32mc:\\users\\administrator\\appdata\\local\\programs\\python\\python38\\lib\\site-packages\\MySQLdb\\cursors.py:206\u001b[0m, in \u001b[0;36mBaseCursor.execute\u001b[1;34m(self, query, args)\u001b[0m\n\u001b[0;32m    203\u001b[0m         \u001b[38;5;28;01mraise\u001b[39;00m ProgrammingError(\u001b[38;5;28mstr\u001b[39m(m))\n\u001b[0;32m    205\u001b[0m \u001b[38;5;28;01massert\u001b[39;00m \u001b[38;5;28misinstance\u001b[39m(query, (\u001b[38;5;28mbytes\u001b[39m, \u001b[38;5;28mbytearray\u001b[39m))\n\u001b[1;32m--> 206\u001b[0m res \u001b[38;5;241m=\u001b[39m \u001b[38;5;28;43mself\u001b[39;49m\u001b[38;5;241;43m.\u001b[39;49m\u001b[43m_query\u001b[49m\u001b[43m(\u001b[49m\u001b[43mquery\u001b[49m\u001b[43m)\u001b[49m\n\u001b[0;32m    207\u001b[0m \u001b[38;5;28;01mreturn\u001b[39;00m res\n",
      "File \u001b[1;32mc:\\users\\administrator\\appdata\\local\\programs\\python\\python38\\lib\\site-packages\\MySQLdb\\cursors.py:319\u001b[0m, in \u001b[0;36mBaseCursor._query\u001b[1;34m(self, q)\u001b[0m\n\u001b[0;32m    317\u001b[0m db \u001b[38;5;241m=\u001b[39m \u001b[38;5;28mself\u001b[39m\u001b[38;5;241m.\u001b[39m_get_db()\n\u001b[0;32m    318\u001b[0m \u001b[38;5;28mself\u001b[39m\u001b[38;5;241m.\u001b[39m_result \u001b[38;5;241m=\u001b[39m \u001b[38;5;28;01mNone\u001b[39;00m\n\u001b[1;32m--> 319\u001b[0m \u001b[43mdb\u001b[49m\u001b[38;5;241;43m.\u001b[39;49m\u001b[43mquery\u001b[49m\u001b[43m(\u001b[49m\u001b[43mq\u001b[49m\u001b[43m)\u001b[49m\n\u001b[0;32m    320\u001b[0m \u001b[38;5;28mself\u001b[39m\u001b[38;5;241m.\u001b[39m_do_get_result(db)\n\u001b[0;32m    321\u001b[0m \u001b[38;5;28mself\u001b[39m\u001b[38;5;241m.\u001b[39m_post_get_result()\n",
      "File \u001b[1;32mc:\\users\\administrator\\appdata\\local\\programs\\python\\python38\\lib\\site-packages\\MySQLdb\\connections.py:254\u001b[0m, in \u001b[0;36mConnection.query\u001b[1;34m(self, query)\u001b[0m\n\u001b[0;32m    252\u001b[0m \u001b[38;5;28;01mif\u001b[39;00m \u001b[38;5;28misinstance\u001b[39m(query, \u001b[38;5;28mbytearray\u001b[39m):\n\u001b[0;32m    253\u001b[0m     query \u001b[38;5;241m=\u001b[39m \u001b[38;5;28mbytes\u001b[39m(query)\n\u001b[1;32m--> 254\u001b[0m \u001b[43m_mysql\u001b[49m\u001b[38;5;241;43m.\u001b[39;49m\u001b[43mconnection\u001b[49m\u001b[38;5;241;43m.\u001b[39;49m\u001b[43mquery\u001b[49m\u001b[43m(\u001b[49m\u001b[38;5;28;43mself\u001b[39;49m\u001b[43m,\u001b[49m\u001b[43m \u001b[49m\u001b[43mquery\u001b[49m\u001b[43m)\u001b[49m\n",
      "\u001b[1;31mIntegrityError\u001b[0m: (1062, \"Duplicate entry 'mango' for key 'member.PRIMARY'\")"
     ]
    }
   ],
   "source": [
    "sql = \"insert into member(userid,userpw,username,hp,email,gender,ssn1,ssn2) values(%s,%s,%s,%s,%s,%s,%s,%s)\"\n",
    "data = ('mango','0000','마앙고','010-0000-0000','mango@mango','남자','000000','0000000'),('peach','0000','피이치','010-0000-0000','peach@peach','여자','000000','0000000')\n",
    "\n",
    "cur.executemany(sql,data)\n",
    "db.commit\n"
   ]
  },
  {
   "cell_type": "markdown",
   "id": "4ba79f22",
   "metadata": {},
   "source": [
    "# 문제\n",
    "* '회원가입' 프로그램 만들기\n",
    "\n",
    "***********회원가입***********\n",
    "* 1.아이디를 입력하세요:\n",
    "* 2.비밀번호를 입력하세요:\n",
    "* 3.이름을 입력하세요:\n",
    "* 4.휴대폰번호을 입력하세요:\n",
    "* 5.이메일을 입력하세요:\n",
    "* 6.성별을 입력하세요:\n",
    "* 7.주민번호 앞자리을 입력하세요:\n",
    "* 8.주민번호 뒷자리을 입력하세요:\n",
    "* 9.우편번호을 입력하세요:\n",
    "* 10.주소을 입력하세요:\n",
    "* 11.상세을 입력하세요:\n",
    "* 12.참고사항을 입력하세요:\n",
    "\n",
    "* 가입되었습니다.\n",
    "\n",
    "\n",
    "* 에러가 발생! 오류처리 -> 다시입력하도록\n",
    "\n",
    "\n",
    "\n"
   ]
  },
  {
   "cell_type": "code",
   "execution_count": 15,
   "id": "60f7d8c6",
   "metadata": {},
   "outputs": [
    {
     "name": "stdout",
     "output_type": "stream",
     "text": [
      "아이디를 입력하세요: 1\n",
      "비밀번호를 입력하세요: 1\n",
      "이름을 입력하세요: 1\n",
      "휴대폰번호를 입력하세요: 1\n",
      "이메일을 입력하세요: 1\n",
      "성별을 입력하세요: 1\n",
      "주민번호 앞자리를 입력하세요: 1\n",
      "주민번호 뒷자리를 입력하세요: 1\n",
      "우편번호를 입력하세요: 1\n",
      "주소를 입력하세요: 1\n",
      "상세주소를 입력하세요: 1\n",
      "참고사항을 입력하세요: 1\n"
     ]
    }
   ],
   "source": [
    "userid = input('아이디를 입력하세요: ')\n",
    "userpw = input('비밀번호를 입력하세요: ')\n",
    "username = input('이름을 입력하세요: ')\n",
    "hp = input('휴대폰번호를 입력하세요: ')\n",
    "email = input('이메일을 입력하세요: ')\n",
    "gender = input('성별을 입력하세요: ')\n",
    "ssn1 = input('주민번호 앞자리를 입력하세요: ')\n",
    "ssn2 = input('주민번호 뒷자리를 입력하세요: ')\n",
    "zipcode = input('우편번호를 입력하세요: ')\n",
    "address1 = input('주소를 입력하세요: ')\n",
    "address2 = input('상세주소를 입력하세요: ')\n",
    "address3 = input('참고사항을 입력하세요: ')\n",
    "# data = []\n",
    "# tu = (id, pw, name, hp, email, gender, ssn1, ssn2, zipcode, adr1, adr2, adr3)\n",
    "# data.append(tu)\n",
    "# cur.execute(sql, data)\n",
    "# db.commit()\n",
    "try:\n",
    "    sql = \"insert into member(userid,userpw,username,hp,email,gender,ssn1,ssn2,zipcode,address1,address2,address3) values(%s,%s,%s,%s,%s,%s,%s,%s,%s,%s,%s,%s)\"\n",
    "    data = (userid,userpw,username,hp,email,gender,ssn1,ssn2,zipcode,address1,address2,address3)\n",
    "    cur.execute(sql, data)\n",
    "    db.commit()\n",
    "except:\n",
    "    print('정보를 다시 입력하세요')"
   ]
  },
  {
   "cell_type": "code",
   "execution_count": null,
   "id": "7e687702",
   "metadata": {},
   "outputs": [],
   "source": [
    "# 강사님 풀이\n",
    "\n",
    "import MySQLdb\n",
    "\n",
    "db =MySQLdb.connect('localhost','root','1234','kdt')\n",
    "cur=db.cursor()\n",
    "\n",
    "while True:\n",
    "    try:\n",
    "        userid = input('아이디를 입력하세요: ')\n",
    "        userpw = input('비밀번호를 입력하세요: ')\n",
    "        username = input('이름을 입력하세요: ')\n",
    "        hp = input('휴대폰번호를 입력하세요: ')\n",
    "        email = input('이메일을 입력하세요: ')\n",
    "        gender = input('성별을 입력하세요: ')\n",
    "        ssn1 = input('주민번호 앞자리를 입력하세요: ')\n",
    "        ssn2 = input('주민번호 뒷자리를 입력하세요: ')\n",
    "        zipcode = input('우편번호를 입력하세요: ')\n",
    "        address1 = input('주소를 입력하세요: ')\n",
    "        address2 = input('상세주소를 입력하세요: ')\n",
    "        address3 = input('참고사항을 입력하세요: ')3\n",
    "        \n",
    "        sql = \"insert into member(userid,userpw,username,hp,email,gender,ssn1,ssn2,zipcode,address1,address2,address3) values(%s,%s,%s,%s,%s,%s,%s,%s,%s,%s,%s,%s)\"\n",
    "        data = (userid,userpw,username,hp,email,gender,ssn1,ssn2,zipcode,address1,address2,address3)\n",
    "        cur.excute(sql,data)\n",
    "        db.commit()\n",
    "        print('가입되었습니다.')\n",
    "        \n",
    "        break\n",
    "    except:\n",
    "        print(\"다시입력하세요\")\n",
    "        \n",
    "        \n",
    "cur.close()\n",
    "db.close()\n",
    "        \n",
    "\n",
    "\n",
    "\n"
   ]
  },
  {
   "cell_type": "markdown",
   "id": "79e57003",
   "metadata": {},
   "source": [
    "# 6. 데이터 수정하기\n",
    "\n",
    "\n",
    "\n",
    "\n",
    "\n"
   ]
  },
  {
   "cell_type": "code",
   "execution_count": 6,
   "id": "0180f7eb",
   "metadata": {},
   "outputs": [],
   "source": [
    "import MySQLdb\n",
    "\n",
    "db =MySQLdb.connect('localhost','root','1234','kdt')\n",
    "cur=db.cursor()"
   ]
  },
  {
   "cell_type": "code",
   "execution_count": 11,
   "id": "276da701",
   "metadata": {},
   "outputs": [
    {
     "name": "stdout",
     "output_type": "stream",
     "text": [
      "수정되었습니다.\n"
     ]
    }
   ],
   "source": [
    "sql = \"update member set zipcode ='12345',address1='서울시',address2='강남구',address3='역삼동' where userid = 'mango'\"\n",
    "result = cur.execute(sql)\n",
    "db.commit\n",
    "\n",
    "\n",
    "#print(result) -> 1 : 실행잘됫다.\n",
    "\n",
    "\n",
    "if result >0:\n",
    "    print(\"수정되었습니다.\")\n",
    "else:\n",
    "    print('에러!')\n"
   ]
  },
  {
   "cell_type": "markdown",
   "id": "9b9f626b",
   "metadata": {},
   "source": [
    "# 문제\n",
    "\n",
    "* 로그인 프로그램을 작성해보자\n",
    "\n",
    "***** 로그인 ****\n",
    "* 아이디를 입력하세요:apple\n",
    "* 비밀번호를 입력하세요:\n",
    "* 로그인 되었습니다.\n",
    "\n",
    "* 아이디를 입력하세요:apple\n",
    "* 비밀번호를 입력하세요:\n",
    "* 아이디 또는 비밀번호가 틀렸습니다!\n"
   ]
  },
  {
   "cell_type": "code",
   "execution_count": null,
   "id": "ca32792e",
   "metadata": {},
   "outputs": [],
   "source": [
    "import MySQLdb\n",
    "\n",
    "db =MySQLdb.connect('localhost','root','1234','kdt')\n",
    "cur=db.cursor()\n",
    "\n",
    "\n",
    "\n",
    "userid = input(\"아이디를 입력하세요:\")\n",
    "userpw = input(\"비밀번호를 입력하세요:\")\n",
    "\n",
    "\n",
    "\n",
    "sql = \"select userid from member where userid =%s and userpw=%s\"\n",
    "data =(userid,userpw)\n",
    "result =cur.execute(sql,data)\n",
    "\n",
    "\n",
    "if result >0:\n",
    "    print('로그인 되었습니다')\n",
    "\n",
    "else: \n",
    "    print('아이디 또는 비밀번호를 확인하세요')\n",
    "    \n",
    "cur.close()\n",
    "db.close()\n",
    "\n"
   ]
  },
  {
   "cell_type": "markdown",
   "id": "6cff0d81",
   "metadata": {},
   "source": [
    "# 7.데이터 삭제하기\n"
   ]
  },
  {
   "cell_type": "code",
   "execution_count": 5,
   "id": "436784f8",
   "metadata": {},
   "outputs": [
    {
     "name": "stdout",
     "output_type": "stream",
     "text": [
      "삭제되었습니다\n"
     ]
    }
   ],
   "source": [
    "\n",
    "db =MySQLdb.connect('localhost','root','1234','kdt')\n",
    "cur=db.cursor()\n",
    "\n",
    "sql=\"delete from member where userid ='avocado'\"\n",
    "result =cur.execute(sql)\n",
    "db.commit()\n",
    "\n",
    "if result>0:\n",
    "    print(\"삭제되었습니다\")\n",
    "else:\n",
    "    print(\"오류\")"
   ]
  },
  {
   "cell_type": "code",
   "execution_count": null,
   "id": "ca41fc88",
   "metadata": {},
   "outputs": [],
   "source": []
  }
 ],
 "metadata": {
  "kernelspec": {
   "display_name": "Python 3 (ipykernel)",
   "language": "python",
   "name": "python3"
  },
  "language_info": {
   "codemirror_mode": {
    "name": "ipython",
    "version": 3
   },
   "file_extension": ".py",
   "mimetype": "text/x-python",
   "name": "python",
   "nbconvert_exporter": "python",
   "pygments_lexer": "ipython3",
   "version": "3.8.6"
  }
 },
 "nbformat": 4,
 "nbformat_minor": 5
}
