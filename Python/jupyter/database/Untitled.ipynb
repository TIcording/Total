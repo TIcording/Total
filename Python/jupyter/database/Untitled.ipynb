{
 "cells": [
  {
   "cell_type": "code",
   "execution_count": 1,
   "id": "25586cb4",
   "metadata": {},
   "outputs": [
    {
     "name": "stdout",
     "output_type": "stream",
     "text": [
      "Requirement already satisfied: mysqlclient in c:\\users\\administrator\\appdata\\local\\programs\\python\\python38\\lib\\site-packages (2.1.1)\n"
     ]
    },
    {
     "name": "stderr",
     "output_type": "stream",
     "text": [
      "WARNING: You are using pip version 20.2.1; however, version 23.0.1 is available.\n",
      "You should consider upgrading via the 'c:\\users\\administrator\\appdata\\local\\programs\\python\\python38\\python.exe -m pip install --upgrade pip' command.\n"
     ]
    }
   ],
   "source": [
    "!pip install mysqlclient"
   ]
  },
  {
   "cell_type": "code",
   "execution_count": 2,
   "id": "f83cbc45",
   "metadata": {},
   "outputs": [],
   "source": [
    "import MySQLdb\n",
    "db =MySQLdb.connect(host = 'localhost',user ='root', password='1234', db='kdt' )\n",
    "cur = db.cursor()\n",
    "\n",
    "#sql_in =\"insert into test_word(eng,kor,lev) values(%s,%s,%s)\"\n",
    "#word =('apple','사과','1')\n",
    "#data = (word)\n",
    "#cur.execute(sql_in,data)\n",
    "#db.commit()  \n",
    "\n",
    "\n"
   ]
  },
  {
   "cell_type": "code",
   "execution_count": 3,
   "id": "944bb0c8",
   "metadata": {},
   "outputs": [],
   "source": [
    "#DTO 역할의 클래스\n",
    "class Words:\n",
    "  def __init__(self,eng,kor,lev=1):\n",
    "    self.eng =eng\n",
    "    self.kor =kor\n",
    "    self.lev =lev\n",
    "\n",
    "\n",
    "  def setEng(self,eng):\n",
    "    self.eng = eng\n",
    "\n",
    "  def getEng(self):\n",
    "    return self.eng\n",
    "\n",
    "  \n",
    "  def setKor(self,kor):\n",
    "    self.kor = kor\n",
    "\n",
    "  def getKor(self):\n",
    "    return self.kor\n",
    "\n",
    "    \n",
    "  def setLev(self,lev):\n",
    "    self.lev = lev\n",
    "\n",
    "  def getLev(self):\n",
    "    return self.lev\n",
    "\n",
    "\n",
    "\n",
    "  def printWord(self):\n",
    "    print(f'단어:{self.eng}, 뜻: {self.kor},레벨:{self.lev}')"
   ]
  },
  {
   "cell_type": "code",
   "execution_count": 4,
   "id": "e7218163",
   "metadata": {},
   "outputs": [],
   "source": [
    "# DAO 역할을 하는 클래스\n",
    "class WordsDao:\n",
    "    def __init__(self):\n",
    "        self.datas = []\n",
    "    def insert(self, word):\n",
    "        sql_in =\"insert into test_word(eng,kor,lev) values(%s,%s,%s)\"\n",
    "        data = (word.eng,word.kor,word.lev)\n",
    "        cur.execute(sql_in,data)\n",
    "        db.commit()  \n",
    "\n",
    "    def update(self, word):\n",
    "        for i in self.datas:\n",
    "            if i.getEng() == word.getEng(): # 기존의 저장된 단어와 수정할 단어가 같다면\n",
    "                i.setKor(word.getKor()) # 기존의 저장된 뜻에 수정할 단어의 뜻을 설정\n",
    "                i.setLev(word.getLev())\n",
    "    def search(self, eng):\n",
    "        sql_search = \"select eng from test_word\"\n",
    "        cur.execute(sql_search)\n",
    "        row = cur.fetchall() \n",
    "        return row\n",
    "    def selectAll(self):\n",
    "        sql_print = \"select * from test_word\"\n",
    "        cur.execute(sql_print)\n",
    "        row = cur.fetchall()\n",
    "        print(row)\n",
    "    def delete(self, word):\n",
    "        self.datas.remove(word)\n",
    "        \n",
    "        \n",
    "    def search2(self,)"
   ]
  },
  {
   "cell_type": "code",
   "execution_count": 5,
   "id": "d24089fa",
   "metadata": {},
   "outputs": [],
   "source": [
    "# Service를 담당하는 클래스\n",
    "class WordsService:\n",
    "    def __init__(self):\n",
    "        self.dao = WordsDao()\n",
    "    def insertWord(self):\n",
    "        eng = input('단어를 입력하세요: ')\n",
    "        kor = input('뜻을 입력하세요: ')\n",
    "        lev = input('레벨을 입력하세요: ')\n",
    "        word = Words(eng, kor, lev)\n",
    "        self.dao.insert(word)\n",
    "    def printAll(self):\n",
    "        self.dao.selectAll()\n",
    "    def searchWord(self):\n",
    "        eng = input('검색할 단어를 입력하세요: ')\n",
    "        word = self.dao.search(eng)\n",
    "        if word == None:\n",
    "            print('찾는 단어가 없습니다')\n",
    "        else:\n",
    "        sql_word = \"select * from test_word where eng='apple'\"\n",
    "        \n",
    "        \n",
    "    def editWord(self):\n",
    "        eng = input('수정할 단어를 입력하세요: ')\n",
    "        word = self.dao.search(eng)\n",
    "        if word == None:\n",
    "            print('수정할 단어를 찾지 못했습니다')\n",
    "        else:\n",
    "            kor = input('새로운 뜻을 입력하세요')\n",
    "            lev = input('새로운 레벨을 입력하세요')\n",
    "            word = Words(eng, kor, lev)\n",
    "            self.dao.update(word)\n",
    "    def delWord(self):\n",
    "        eng = input('삭제할 단어를 입력하세요')\n",
    "        word = self.dao.search(eng)\n",
    "        if word == None:\n",
    "            print('삭제할 단어를 찾지 못했습니다')\n",
    "        else:\n",
    "            self.dao.delete(word)"
   ]
  },
  {
   "cell_type": "code",
   "execution_count": 6,
   "id": "0ddceb17",
   "metadata": {},
   "outputs": [],
   "source": [
    "# View 역할을 하는 클래스\n",
    "class Menu:\n",
    "    def __init__(self):\n",
    "        self.service = WordsService()\n",
    "    def run(self):\n",
    "        while True:\n",
    "            menu = int(input('1.등록하기 2.출력하기 3.검색하기 4.수정하기 5.삭제하기 6.종료하기'))\n",
    "            if menu == 1:\n",
    "                    self.service.insertWord()\n",
    "            elif menu == 2:\n",
    "                    self.service.printAll()\n",
    "            elif menu == 3:\n",
    "                    self.service.searchWord()\n",
    "            elif menu == 4:\n",
    "                    self.service.editWord()\n",
    "            elif menu == 5:\n",
    "                    self.service.delWord()  \n",
    "            elif menu == 6:\n",
    "                break\n",
    "         #except:\n",
    "               # print('다시 입력하세요')"
   ]
  },
  {
   "cell_type": "code",
   "execution_count": 7,
   "id": "24f064ea",
   "metadata": {},
   "outputs": [],
   "source": [
    "start = Menu()"
   ]
  },
  {
   "cell_type": "code",
   "execution_count": null,
   "id": "d9b4aea4",
   "metadata": {
    "scrolled": true
   },
   "outputs": [
    {
     "name": "stdout",
     "output_type": "stream",
     "text": [
      "1.등록하기 2.출력하기 3.검색하기 4.수정하기 5.삭제하기 6.종료하기2\n",
      "(('apple', '사과', '1'),)\n",
      "1.등록하기 2.출력하기 3.검색하기 4.수정하기 5.삭제하기 6.종료하기3\n",
      "검색할 단어를 입력하세요: apple\n",
      "good\n"
     ]
    }
   ],
   "source": [
    "start.run()"
   ]
  },
  {
   "cell_type": "code",
   "execution_count": null,
   "id": "76dad300",
   "metadata": {},
   "outputs": [],
   "source": []
  },
  {
   "cell_type": "code",
   "execution_count": null,
   "id": "0e364d36",
   "metadata": {},
   "outputs": [],
   "source": []
  }
 ],
 "metadata": {
  "kernelspec": {
   "display_name": "Python 3 (ipykernel)",
   "language": "python",
   "name": "python3"
  },
  "language_info": {
   "codemirror_mode": {
    "name": "ipython",
    "version": 3
   },
   "file_extension": ".py",
   "mimetype": "text/x-python",
   "name": "python",
   "nbconvert_exporter": "python",
   "pygments_lexer": "ipython3",
   "version": "3.8.6"
  }
 },
 "nbformat": 4,
 "nbformat_minor": 5
}
