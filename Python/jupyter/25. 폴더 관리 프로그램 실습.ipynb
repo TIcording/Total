{
 "cells": [
  {
   "cell_type": "markdown",
   "id": "78f65d73",
   "metadata": {},
   "source": [
    "# 1. 압축 파일 정리하기 "
   ]
  },
  {
   "cell_type": "code",
   "execution_count": 1,
   "id": "65cc3afa",
   "metadata": {},
   "outputs": [
    {
     "data": {
      "text/plain": [
       "'C:\\\\JM\\\\Python\\\\jupyter'"
      ]
     },
     "execution_count": 1,
     "metadata": {},
     "output_type": "execute_result"
    }
   ],
   "source": [
    "import os\n",
    "os.getcwd()"
   ]
  },
  {
   "cell_type": "code",
   "execution_count": 5,
   "id": "4376d801",
   "metadata": {},
   "outputs": [],
   "source": [
    "# 정리 대상 폴더 경로를 설정\n",
    "target_path = './고라니'"
   ]
  },
  {
   "cell_type": "code",
   "execution_count": 6,
   "id": "ca24ea7b",
   "metadata": {},
   "outputs": [
    {
     "name": "stdout",
     "output_type": "stream",
     "text": [
      "['./고라니\\\\데이터저장_물류.zip']\n"
     ]
    }
   ],
   "source": [
    "# 압축 파일 확인\n",
    "import glob\n",
    "\n",
    "zipfile_path = []\n",
    "for filename in glob.glob(os.path.join(target_path, '**/*.zip'),recursive = True):\n",
    "    zipfile_path.append(filename)\n",
    "    print(zipfile_path)"
   ]
  },
  {
   "cell_type": "code",
   "execution_count": 93,
   "id": "e76690d8",
   "metadata": {},
   "outputs": [
    {
     "name": "stdout",
     "output_type": "stream",
     "text": [
      "D_20220110_╡Ñ└╠┼═└·└σ_╣░╖∙_001.pdf\n",
      "D_20220110_데이터저장_물류_001.pdf\n",
      "D_20220110_╡Ñ└╠┼═└·└σ_╣░╖∙_002.pdf\n",
      "D_20220110_데이터저장_물류_002.pdf\n",
      "D_20220723_╡Ñ└╠┼═└·└σ_╣░╖∙_001.pdf\n",
      "D_20220723_데이터저장_물류_001.pdf\n",
      "D_20220723_╝╛┼═░í╡┐╟÷╚▓_╣░╖∙_002.pdf\n",
      "D_20220723_센터가동현황_물류_002.pdf\n"
     ]
    }
   ],
   "source": [
    "# 압축 파일 해제\n",
    "import zipfile\n",
    "for filename in zipfile_path:\n",
    "    with zipfile.ZipFile(filename) as myzip:\n",
    "        zipinfo = myzip.infolist()\n",
    "        for info in zipinfo:\n",
    "            decode_name = info.filename.encode('cp437').decode('euc-kr') # 한글 깨짐 방지\n",
    "            print(decode_name)\n",
    "            info.filename = os.path.join(target_path, decode_name)\n",
    "            myzip.extract(info)"
   ]
  },
  {
   "cell_type": "markdown",
   "id": "31960740",
   "metadata": {},
   "source": [
    "# 2. 파일명 정리하기"
   ]
  },
  {
   "cell_type": "code",
   "execution_count": 12,
   "id": "b6406df6",
   "metadata": {
    "scrolled": true
   },
   "outputs": [
    {
     "name": "stdout",
     "output_type": "stream",
     "text": [
      "Collecting openpyxl"
     ]
    },
    {
     "name": "stderr",
     "output_type": "stream",
     "text": [
      "WARNING: You are using pip version 20.2.1; however, version 23.0.1 is available.\n",
      "You should consider upgrading via the 'c:\\users\\administrator\\appdata\\local\\programs\\python\\python38\\python.exe -m pip install --upgrade pip' command.\n"
     ]
    },
    {
     "name": "stdout",
     "output_type": "stream",
     "text": [
      "\n",
      "  Downloading openpyxl-3.1.2-py2.py3-none-any.whl (249 kB)\n",
      "Collecting et-xmlfile\n",
      "  Downloading et_xmlfile-1.1.0-py3-none-any.whl (4.7 kB)\n",
      "Installing collected packages: et-xmlfile, openpyxl\n",
      "Successfully installed et-xmlfile-1.1.0 openpyxl-3.1.2\n"
     ]
    }
   ],
   "source": [
    "!pip install openpyxl"
   ]
  },
  {
   "cell_type": "code",
   "execution_count": 17,
   "id": "76e6cbf1",
   "metadata": {},
   "outputs": [],
   "source": [
    "import openpyxl as opx\n"
   ]
  },
  {
   "cell_type": "code",
   "execution_count": 48,
   "id": "fac22e57",
   "metadata": {},
   "outputs": [],
   "source": [
    "# 폴더별 파일명을 입력 받아 엑셀파일에 저장하는 함수\n",
    "def getFileName(target_path):\n",
    "\n",
    "    wb = opx.Workbook()\n",
    "    ws = wb.active #새로 생성한 WorkBook의 활성화 시트를 ws로 정의\n",
    "    ws.cell(row=1,column=1).value = '파일경로'\n",
    "    ws.cell(row=1,column=2).value = '파일명(변경전)'\n",
    "    ws.cell(row=1,column=3).value = '파일명(변경후)'\n",
    "    \n",
    "    i = 2\n",
    "    \n",
    "    current_dir = target_path\n",
    "    filelist = os.listdir(current_dir)\n",
    "    \n",
    "    for filename in filelist:\n",
    "        ws.cell(row = i, column=1).value = current_dir + \"/\"\n",
    "        ws.cell(row = i, column=2).value = filename\n",
    "        i+=1\n",
    "    \n",
    "    wb.save(os.path.join(target_path,'filelist.xlsx'))"
   ]
  },
  {
   "cell_type": "code",
   "execution_count": 49,
   "id": "ae5faf54",
   "metadata": {},
   "outputs": [],
   "source": [
    "getFileName(target_path)"
   ]
  },
  {
   "cell_type": "markdown",
   "id": "b37954b0",
   "metadata": {},
   "source": [
    "# 3. 파일명 변경하기"
   ]
  },
  {
   "cell_type": "code",
   "execution_count": 56,
   "id": "bfcb3a68",
   "metadata": {},
   "outputs": [],
   "source": [
    "def excelRead(filepath : str) -> list:\n",
    "    wb = opx.load_workbook(filepath) # 엑셀 파일을 읽겠다.\n",
    "    \n",
    "    ws = wb.active\n",
    "    \n",
    "    dirpath = [r[0].value for r in ws]\n",
    "    file_before = [r[1].value for r in ws]\n",
    "    file_after = [r[2].value for r in ws]\n",
    "    \n",
    "    len_num = len(dirpath)\n",
    "    datalist = []\n",
    "    \n",
    "    for i in range(1,len_num):\n",
    "        temp_tuple = (dirpath[i],file_before[i], file_after[i])\n",
    "        datalist.append(temp_tuple)\n",
    "        \n",
    "    return datalist"
   ]
  },
  {
   "cell_type": "code",
   "execution_count": 57,
   "id": "2967ac40",
   "metadata": {},
   "outputs": [],
   "source": [
    "rename_list = excelRead(os.path.join(target_path, 'filelist.xlsx'))"
   ]
  },
  {
   "cell_type": "code",
   "execution_count": 58,
   "id": "ce6b64a2",
   "metadata": {},
   "outputs": [
    {
     "name": "stdout",
     "output_type": "stream",
     "text": [
      "[('./고라니/', 'A_2022_01_13_부서로그_인사_001.pdf', 'A_2022_01_13_부서로그_인사_001.pdf'), ('./고라니/', 'A_2022_01_13_부서로그_인사_002.pdf', 'A_2022_01_13_부서로그_인사_002.pdf'), ('./고라니/', 'A_2022_01_13_부서로그_인사_003.pdf', 'A_2022_01_13_부서로그_인사_003.pdf'), ('./고라니/', 'A_2022_04_10_생산로그_생산_001.pdf', 'A_2022_04_10_생산로그_생산_001.pdf'), ('./고라니/', 'A_2022_04_10_생산로그_생산_002.pdf', 'A_2022_04_10_생산로그_생산_002.pdf'), ('./고라니/', 'A_2022_04_10_생산로그_생산_003.pdf', 'A_2022_04_10_생산로그_생산_003.pdf'), ('./고라니/', 'A_2022_04_10_생산로그_생산_004.pdf', 'A_2022_04_10_생산로그_생산_004.pdf'), ('./고라니/', 'A_2022_06_30_생산로그_생산_001.pdf', 'A_2022_06_30_생산로그_생산_001.pdf'), ('./고라니/', 'A_2022_06_30_생산로그_생산_002.pdf', 'A_2022_06_30_생산로그_생산_002.pdf'), ('./고라니/', 'A_2022_07_20_부서로그_인사_001.pdf', 'A_2022_07_20_부서로그_인사_001.pdf'), ('./고라니/', 'A_2022_07_20_부서로그_인사_002.pdf', 'A_2022_07_20_부서로그_인사_002.pdf'), ('./고라니/', 'A_2022_07_20_부서로그_인사_003.pdf', 'A_2022_07_20_부서로그_인사_003.pdf'), ('./고라니/', 'A_2022_07_20_부서로그_인사_004 (1).pdf', 'A_2022_07_20_부서로그_인사_004.pdf'), ('./고라니/', 'B_2022_02_20_상반기_클래스설계_001.xlsx', 'B_2022_02_20_상반기_클래스설계_001.xlsx'), ('./고라니/', 'B_2022_02_20_상반기_클래스설계_002.xlsx', 'B_2022_02_20_상반기_클래스설계_002.xlsx'), ('./고라니/', 'B_2022_06_20_하반기_클래스설계_001.xlsx', 'B_2022_06_20_하반기_클래스설계_001.xlsx'), ('./고라니/', 'B_2022_06_30_하반기_클래스설계_002.xlsx', 'B_2022_06_30_하반기_클래스설계_002.xlsx'), ('./고라니/', 'C_2022_03_30_데이터베이스_ERD_001.xlsx', 'C_2022_03_30_데이터베이스_ERD_001.xlsx'), ('./고라니/', 'C_2022_03_30_데이터베이스_ERD_002.xlsx', 'C_2022_03_30_데이터베이스_ERD_002.xlsx'), ('./고라니/', 'C_2022_03_30_데이터베이스_ERD_003.xlsx', 'C_2022_03_30_데이터베이스_ERD_003.xlsx'), ('./고라니/', 'C_2022_09_10_데이터베이스_ERD_001 (1).xlsx', 'C_2022_09_10_데이터베이스_ERD_001.xlsx'), ('./고라니/', 'C_2022_09_10_데이터베이스_ERD_002.xlsx', 'C_2022_09_10_데이터베이스_ERD_002.xlsx'), ('./고라니/', 'C_2022_09_10_데이터베이스_ERD_003.xlsx', 'C_2022_09_10_데이터베이스_ERD_003.xlsx'), ('./고라니/', 'D_20220110_데이터저장_물류_001.pdf', 'D_20220110_데이터저장_물류_001.pdf'), ('./고라니/', 'D_20220110_데이터저장_물류_002.pdf', 'D_20220110_데이터저장_물류_002.pdf'), ('./고라니/', 'D_20220723_데이터저장_물류_001.pdf', 'D_20220723_데이터저장_물류_001.pdf'), ('./고라니/', 'D_20220723_센터가동현황_물류_002.pdf', 'D_20220723_센터가동현황_물류_002.pdf'), ('./고라니/', 'filelist.xlsx', 'filelist.xlsx'), ('./고라니/', '내사진.jpg', '내사진.jpg'), ('./고라니/', '데이터저장_물류.zip', '데이터저장_물류.zip'), ('./고라니/', '새파일1_복사본.txt', '새파일1_복사본.txt'), ('./고라니/', '점심시간.txt', '저녁시간.txt'), ('./고라니/', '주피터노트북.txt', '주피터노트북.txt')]\n"
     ]
    }
   ],
   "source": [
    "print(rename_list)"
   ]
  },
  {
   "cell_type": "code",
   "execution_count": 61,
   "id": "b1c43928",
   "metadata": {},
   "outputs": [],
   "source": [
    "import shutil\n",
    "\n",
    "def fileRename(datalist : list):\n",
    "    for data in datalist:\n",
    "        print(data[1]+'의 파일명을'+data[2]+'로 변경합니다.')\n",
    "        shutil.move(data[0]+data[1],data[0]+data[2])"
   ]
  },
  {
   "cell_type": "code",
   "execution_count": 62,
   "id": "3308d3de",
   "metadata": {},
   "outputs": [
    {
     "name": "stdout",
     "output_type": "stream",
     "text": [
      "A_2022_01_13_부서로그_인사_001.pdf의 파일명을A_2022_01_13_부서로그_인사_001.pdf로 변경합니다.\n",
      "A_2022_01_13_부서로그_인사_002.pdf의 파일명을A_2022_01_13_부서로그_인사_002.pdf로 변경합니다.\n",
      "A_2022_01_13_부서로그_인사_003.pdf의 파일명을A_2022_01_13_부서로그_인사_003.pdf로 변경합니다.\n",
      "A_2022_04_10_생산로그_생산_001.pdf의 파일명을A_2022_04_10_생산로그_생산_001.pdf로 변경합니다.\n",
      "A_2022_04_10_생산로그_생산_002.pdf의 파일명을A_2022_04_10_생산로그_생산_002.pdf로 변경합니다.\n",
      "A_2022_04_10_생산로그_생산_003.pdf의 파일명을A_2022_04_10_생산로그_생산_003.pdf로 변경합니다.\n",
      "A_2022_04_10_생산로그_생산_004.pdf의 파일명을A_2022_04_10_생산로그_생산_004.pdf로 변경합니다.\n",
      "A_2022_06_30_생산로그_생산_001.pdf의 파일명을A_2022_06_30_생산로그_생산_001.pdf로 변경합니다.\n",
      "A_2022_06_30_생산로그_생산_002.pdf의 파일명을A_2022_06_30_생산로그_생산_002.pdf로 변경합니다.\n",
      "A_2022_07_20_부서로그_인사_001.pdf의 파일명을A_2022_07_20_부서로그_인사_001.pdf로 변경합니다.\n",
      "A_2022_07_20_부서로그_인사_002.pdf의 파일명을A_2022_07_20_부서로그_인사_002.pdf로 변경합니다.\n",
      "A_2022_07_20_부서로그_인사_003.pdf의 파일명을A_2022_07_20_부서로그_인사_003.pdf로 변경합니다.\n",
      "A_2022_07_20_부서로그_인사_004 (1).pdf의 파일명을A_2022_07_20_부서로그_인사_004.pdf로 변경합니다.\n",
      "B_2022_02_20_상반기_클래스설계_001.xlsx의 파일명을B_2022_02_20_상반기_클래스설계_001.xlsx로 변경합니다.\n",
      "B_2022_02_20_상반기_클래스설계_002.xlsx의 파일명을B_2022_02_20_상반기_클래스설계_002.xlsx로 변경합니다.\n",
      "B_2022_06_20_하반기_클래스설계_001.xlsx의 파일명을B_2022_06_20_하반기_클래스설계_001.xlsx로 변경합니다.\n",
      "B_2022_06_30_하반기_클래스설계_002.xlsx의 파일명을B_2022_06_30_하반기_클래스설계_002.xlsx로 변경합니다.\n",
      "C_2022_03_30_데이터베이스_ERD_001.xlsx의 파일명을C_2022_03_30_데이터베이스_ERD_001.xlsx로 변경합니다.\n",
      "C_2022_03_30_데이터베이스_ERD_002.xlsx의 파일명을C_2022_03_30_데이터베이스_ERD_002.xlsx로 변경합니다.\n",
      "C_2022_03_30_데이터베이스_ERD_003.xlsx의 파일명을C_2022_03_30_데이터베이스_ERD_003.xlsx로 변경합니다.\n",
      "C_2022_09_10_데이터베이스_ERD_001 (1).xlsx의 파일명을C_2022_09_10_데이터베이스_ERD_001.xlsx로 변경합니다.\n",
      "C_2022_09_10_데이터베이스_ERD_002.xlsx의 파일명을C_2022_09_10_데이터베이스_ERD_002.xlsx로 변경합니다.\n",
      "C_2022_09_10_데이터베이스_ERD_003.xlsx의 파일명을C_2022_09_10_데이터베이스_ERD_003.xlsx로 변경합니다.\n",
      "D_20220110_데이터저장_물류_001.pdf의 파일명을D_20220110_데이터저장_물류_001.pdf로 변경합니다.\n",
      "D_20220110_데이터저장_물류_002.pdf의 파일명을D_20220110_데이터저장_물류_002.pdf로 변경합니다.\n",
      "D_20220723_데이터저장_물류_001.pdf의 파일명을D_20220723_데이터저장_물류_001.pdf로 변경합니다.\n",
      "D_20220723_센터가동현황_물류_002.pdf의 파일명을D_20220723_센터가동현황_물류_002.pdf로 변경합니다.\n",
      "filelist.xlsx의 파일명을filelist.xlsx로 변경합니다.\n",
      "내사진.jpg의 파일명을내사진.jpg로 변경합니다.\n",
      "데이터저장_물류.zip의 파일명을데이터저장_물류.zip로 변경합니다.\n",
      "새파일1_복사본.txt의 파일명을새파일1_복사본.txt로 변경합니다.\n",
      "점심시간.txt의 파일명을저녁시간.txt로 변경합니다.\n",
      "주피터노트북.txt의 파일명을주피터노트북.txt로 변경합니다.\n"
     ]
    }
   ],
   "source": [
    "fileRename(rename_list)"
   ]
  },
  {
   "cell_type": "markdown",
   "id": "556dfc7e",
   "metadata": {},
   "source": [
    "# 4. 폴더 생성하기"
   ]
  },
  {
   "cell_type": "code",
   "execution_count": 63,
   "id": "cf24a4a6",
   "metadata": {},
   "outputs": [],
   "source": [
    "import fnmatch"
   ]
  },
  {
   "cell_type": "code",
   "execution_count": 65,
   "id": "ae6b0558",
   "metadata": {},
   "outputs": [],
   "source": [
    "def categotyList(target_path : str) -> list:\n",
    "    file_list = []\n",
    "    for filename in os.listdir(target_path):\n",
    "        if fnmatch.fnmatch(filename, '*_[0-9][0-9][0-9].*'):\n",
    "            file_list.append(filename)\n",
    "    \n",
    "    category = []\n",
    "    for file in file_list:\n",
    "        temp_list = file.split('_')\n",
    "        category.append(temp_list[-2])\n",
    "    \n",
    "    temp_set = set(category)\n",
    "    result = list(temp_set)\n",
    "    return result\n",
    "        "
   ]
  },
  {
   "cell_type": "code",
   "execution_count": 67,
   "id": "7497f54b",
   "metadata": {},
   "outputs": [
    {
     "data": {
      "text/plain": [
       "['클래스설계', 'ERD', '생산', '인사', '물류']"
      ]
     },
     "execution_count": 67,
     "metadata": {},
     "output_type": "execute_result"
    }
   ],
   "source": [
    "categotyList(target_path)"
   ]
  },
  {
   "cell_type": "code",
   "execution_count": 69,
   "id": "c9832425",
   "metadata": {},
   "outputs": [
    {
     "name": "stdout",
     "output_type": "stream",
     "text": [
      "['클래스설계', 'ERD', '생산', '인사', '물류', '기타']\n"
     ]
    }
   ],
   "source": [
    "categorylist = categotyList(target_path) + ['기타']\n",
    "print(categorylist)"
   ]
  },
  {
   "cell_type": "code",
   "execution_count": 70,
   "id": "6228d436",
   "metadata": {},
   "outputs": [],
   "source": [
    "import pathlib"
   ]
  },
  {
   "cell_type": "code",
   "execution_count": 83,
   "id": "045c25b8",
   "metadata": {},
   "outputs": [],
   "source": [
    "new_path = './new_dir'\n",
    "\n",
    "def makeDir(new_path : str, category : list):\n",
    "    for category in categorylist:\n",
    "        new_dir = pathlib.Path(os.path.join(new_path, category))\n",
    "        new_dir.mkdir(parents=True, exist_ok = True) # parents 상위 폴더 없어도 만들기, 존재하면 덮어씀"
   ]
  },
  {
   "cell_type": "code",
   "execution_count": 84,
   "id": "b0515454",
   "metadata": {},
   "outputs": [],
   "source": [
    "makeDir(new_path,categorylist)"
   ]
  },
  {
   "cell_type": "markdown",
   "id": "22ba257e",
   "metadata": {},
   "source": [
    "# 5. 파일 분류 및 이동하기"
   ]
  },
  {
   "cell_type": "code",
   "execution_count": 85,
   "id": "a9dc2f1c",
   "metadata": {},
   "outputs": [],
   "source": [
    "import shutil"
   ]
  },
  {
   "cell_type": "code",
   "execution_count": 89,
   "id": "8e860980",
   "metadata": {},
   "outputs": [],
   "source": [
    "def moveFile(new_path, target_path, categorylist):\n",
    "    dirlist = os.listdir(new_path) #이동시킬 경로에 생성된 분류 디렉토리 리스트\n",
    "    filelist = os.listdir(target_path) # 이동시킬 파일명 리스트\n",
    "    categorydic = {}\n",
    "    \n",
    "    for file in filelist:\n",
    "        try:\n",
    "            temp_list = file.split('_')\n",
    "            assert temp_list[-2] in categorylist #  assert 조건에 만족하지 않으면 에러\n",
    "            categorydic[file] = temp_list[-2] # {파일명 : 분류명}\n",
    "            \n",
    "        except:\n",
    "            categorydic[file] = '기타' # {파일명 : 기타}\n",
    "            \n",
    "    print(categorydic)\n",
    "    \n",
    "    for key, value in categorydic.items():\n",
    "        shutil.copy(target_path+\"/\"+key, new_path+\"/\"+value)"
   ]
  },
  {
   "cell_type": "code",
   "execution_count": 90,
   "id": "4aef13f8",
   "metadata": {},
   "outputs": [
    {
     "name": "stdout",
     "output_type": "stream",
     "text": [
      "{'A_2022_01_13_부서로그_인사_001.pdf': '인사', 'A_2022_01_13_부서로그_인사_002.pdf': '인사', 'A_2022_01_13_부서로그_인사_003.pdf': '인사', 'A_2022_04_10_생산로그_생산_001.pdf': '생산', 'A_2022_04_10_생산로그_생산_002.pdf': '생산', 'A_2022_04_10_생산로그_생산_003.pdf': '생산', 'A_2022_04_10_생산로그_생산_004.pdf': '생산', 'A_2022_06_30_생산로그_생산_001.pdf': '생산', 'A_2022_06_30_생산로그_생산_002.pdf': '생산', 'A_2022_07_20_부서로그_인사_001.pdf': '인사', 'A_2022_07_20_부서로그_인사_002.pdf': '인사', 'A_2022_07_20_부서로그_인사_003.pdf': '인사', 'A_2022_07_20_부서로그_인사_004.pdf': '인사', 'B_2022_02_20_상반기_클래스설계_001.xlsx': '클래스설계', 'B_2022_02_20_상반기_클래스설계_002.xlsx': '클래스설계', 'B_2022_06_20_하반기_클래스설계_001.xlsx': '클래스설계', 'B_2022_06_30_하반기_클래스설계_002.xlsx': '클래스설계', 'C_2022_03_30_데이터베이스_ERD_001.xlsx': 'ERD', 'C_2022_03_30_데이터베이스_ERD_002.xlsx': 'ERD', 'C_2022_03_30_데이터베이스_ERD_003.xlsx': 'ERD', 'C_2022_09_10_데이터베이스_ERD_001.xlsx': 'ERD', 'C_2022_09_10_데이터베이스_ERD_002.xlsx': 'ERD', 'C_2022_09_10_데이터베이스_ERD_003.xlsx': 'ERD', 'D_20220110_데이터저장_물류_001.pdf': '물류', 'D_20220110_데이터저장_물류_002.pdf': '물류', 'D_20220723_데이터저장_물류_001.pdf': '물류', 'D_20220723_센터가동현황_물류_002.pdf': '물류', 'filelist.xlsx': '기타', '내사진.jpg': '기타', '데이터저장_물류.zip': '기타', '새파일1_복사본.txt': '기타', '저녁시간.txt': '기타', '주피터노트북.txt': '기타'}\n"
     ]
    }
   ],
   "source": [
    "moveFile(new_path,target_path,categorylist)"
   ]
  },
  {
   "cell_type": "code",
   "execution_count": null,
   "id": "a7086d60",
   "metadata": {},
   "outputs": [],
   "source": []
  }
 ],
 "metadata": {
  "kernelspec": {
   "display_name": "Python 3 (ipykernel)",
   "language": "python",
   "name": "python3"
  },
  "language_info": {
   "codemirror_mode": {
    "name": "ipython",
    "version": 3
   },
   "file_extension": ".py",
   "mimetype": "text/x-python",
   "name": "python",
   "nbconvert_exporter": "python",
   "pygments_lexer": "ipython3",
   "version": "3.8.6"
  }
 },
 "nbformat": 4,
 "nbformat_minor": 5
}
